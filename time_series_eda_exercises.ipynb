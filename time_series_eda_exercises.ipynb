{
 "cells": [
  {
   "cell_type": "markdown",
   "id": "97cdb985",
   "metadata": {},
   "source": [
    "___\n",
    "### Exercise\n",
    "Do your work for this exercise in a notebook named explore.ipynb. Use the techniques in the lesson to explore the store item demand dataset and the opsd dataset.\n",
    "\n",
    "For the store item demand data, you will need to choose a method of aggregating such that each observation is a unique date. For both datasets you should choose a method of splitting your data and only explore the training split.\n",
    "\n",
    "Note: When resampling data, use a mean() aggregation method.\n",
    "\n",
    "___\n",
    "### Store Item Demand\n",
    "Load your store item demand data using your acquire and/or prepare functions.\n",
    "\n",
    "1. Using a human-based approach, split your dataset into train and test sets.\n",
    "2. Visualize your train-test split.\n",
    "\n",
    "Only use your train data set to perform the following tasks:\n",
    "\n",
    "1. Resample your data and visualize it.\n",
    "2. Creating a rolling (moving) average of your data and visualize it.\n",
    "3. Plot the difference in sales from one day to the next.\n",
    "4. Plot the % difference in sales from one day to the next.\n",
    "5. Plot the % difference in sales from one week to the next.\n",
    "6. Plot the % difference in sales from one month to the next.\n",
    "7. Visualize an autocorrelation plot on a weekly resampling.\n",
    "8. Visualize a seasonal decomposition plot on a weekly resampling.\n",
    "\n",
    "___\n",
    "### OPS data\n",
    "\n",
    "Load your OPS data using your acquire and/or prepare functions.\n",
    "\n",
    "1. Split the data, so that train contains information up to and including 2013. The remaning data should be placed in test.\n",
    "\n",
    "Only use the train data set to perform the following tasks:\n",
    "\n",
    "1. Visualize your train-test split.\n",
    "\n",
    "2. Plot the consumption, wind, and solar data on the same chart.\n",
    "\n",
    "3. Plot only the consumption data from the year 2010. Are there any patterns you can identify? Note them in a markdown section.\n",
    "\n",
    "4. Resample the consumption data to monthly and plot it.\n",
    "\n",
    "5. Resample the consumption data to yearly and plot it.\n",
    "\n",
    "___\n",
    "BONUS:\n",
    "1. Group the consumption data by month and create a boxplot treating the month component as a separate categorical feature.\n",
    "\n",
    "2. Group the consumption data by weekday and create a boxplot treating the weekday component as a separate categorical feature.\n",
    "\n",
    "3. Create a subseasonal plot by month of your consumption data.\n",
    "\n",
    "4. Create one or two visualizations that helps answer the follow questions: How does wind production/consumption vary within a year? How does wind production/consumption vary from year to year?\n",
    "\n",
    "5. Create one or two visualizations that helps answer the follow questions: How does solar production/consumption vary within a year? How does solar production/consumption vary from year to year?\n",
    "\n",
    "6. Plot a time series decomposition for your consumption data and note your takeaways.\n",
    "\n",
    "7. Create an autocorrelation plot of a weekly resampling of the consumption data.\n",
    " "
   ]
  },
  {
   "cell_type": "code",
   "execution_count": 2,
   "id": "7976f90e",
   "metadata": {},
   "outputs": [],
   "source": [
    "import numpy as np\n",
    "import pandas as pd\n",
    "import matplotlib.pyplot as plt\n",
    "import seaborn as sns\n",
    "import statsmodels.api as sm\n",
    "\n",
    "import warnings\n",
    "warnings.filterwarnings('ignore')"
   ]
  },
  {
   "cell_type": "code",
   "execution_count": null,
   "id": "bcff7d5b",
   "metadata": {},
   "outputs": [],
   "source": []
  },
  {
   "cell_type": "code",
   "execution_count": null,
   "id": "bfe3e819",
   "metadata": {},
   "outputs": [],
   "source": []
  }
 ],
 "metadata": {
  "kernelspec": {
   "display_name": "Python 3 (ipykernel)",
   "language": "python",
   "name": "python3"
  },
  "language_info": {
   "codemirror_mode": {
    "name": "ipython",
    "version": 3
   },
   "file_extension": ".py",
   "mimetype": "text/x-python",
   "name": "python",
   "nbconvert_exporter": "python",
   "pygments_lexer": "ipython3",
   "version": "3.9.12"
  }
 },
 "nbformat": 4,
 "nbformat_minor": 5
}
