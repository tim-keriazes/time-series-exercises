{
 "cells": [
  {
   "cell_type": "markdown",
   "id": "1c3d3740",
   "metadata": {},
   "source": [
    "Exercises\n",
    "\n",
    " Create a new local git repository and remote repository on github named time-series-exercises. Save this work for this module in your time-series-exercises repo.\n",
    "\n",
    " The end result of this exercise should be a file named acquire.py.\n",
    "\n",
    "1. Using the code from the lesson as a guide and the REST API from https://python.zgulde.net/api/v1/items as we did in the lesson, create a dataframe named items that has all of the data for items.\n",
    "2. Do the same thing, but for stores (https://python.zgulde.net/api/v1/stores)\n",
    "3. Extract the data for sales (https://python.zgulde.net/api/v1/sales). There are a lot of pages of data here, so your code will need to be a little more complex. Your code should continue fetching data from the next page until all of the data is extracted.\n",
    "4. Save the data in your files to local csv files so that it will be faster to access in the future.\n",
    "5. Combine the data from your three separate dataframes into one large dataframe.\n",
    "6. Acquire the Open Power Systems Data for Germany, which has been rapidly expanding its renewable energy production in recent years. The data set includes country-wide totals of electricity consumption, wind power production, and solar power production for 2006-2017. You can get the data here: https://raw.githubusercontent.com/jenfly/opsd/master/opsd_germany_daily.csv\n",
    "7. Make sure all the work that you have done above is reproducible. That is, you should put the code above into separate functions in the acquire.py file and be able to re-run the functions and get the same data."
   ]
  },
  {
   "cell_type": "code",
   "execution_count": 9,
   "id": "cfebb73a",
   "metadata": {},
   "outputs": [],
   "source": [
    "import pandas as pd\n",
    "\n",
    "import requests"
   ]
  },
  {
   "cell_type": "code",
   "execution_count": 2,
   "id": "434ea71f",
   "metadata": {},
   "outputs": [
    {
     "data": {
      "text/plain": [
       "<Response [200]>"
      ]
     },
     "execution_count": 2,
     "metadata": {},
     "output_type": "execute_result"
    }
   ],
   "source": [
    "response = requests.get('http://example.com')\n",
    "response"
   ]
  },
  {
   "cell_type": "markdown",
   "id": "cbcf3c89",
   "metadata": {},
   "source": [
    "Http status codes:\n",
    "\n",
    "    200s: everythings good\n",
    "    300s: redirecting\n",
    "    400s: you did something wrong\n",
    "    500s: something is wrong with the server"
   ]
  },
  {
   "cell_type": "code",
   "execution_count": 3,
   "id": "1a4ddf42",
   "metadata": {
    "scrolled": true
   },
   "outputs": [
    {
     "name": "stdout",
     "output_type": "stream",
     "text": [
      "<!doctype html>\n",
      "<html>\n",
      "<head>\n",
      "    <title>Example Domain</title>\n",
      "\n",
      "    <meta charset=\"utf-8\" />\n",
      "    <meta http-equiv=\"Content-type\" content=\"text/html; charset=utf-8\" />\n",
      "    <meta name=\"viewport\" content=\"width=device-width, initial-scale=1\" />\n",
      "    <style type=\"text/css\">\n",
      "    body {\n",
      "        background-color: #f0f0f2;\n",
      "        margin: 0;\n",
      "        padding: 0;\n",
      "        font-family: -apple-system, system-ui, BlinkMacSystemFont, \"Segoe UI\", \"Open Sans\", \"Helvetica Neue\", Helvetica, Arial, sans-serif;\n",
      "        \n",
      "    }\n",
      "    div {\n",
      "        width: 600px;\n",
      "        margin: 5em auto;\n",
      "        padding: 2em;\n",
      "        background-color: #fdfdff;\n",
      "        border-radius: 0.5em;\n",
      "        box-shadow: 2px 3px 7px 2px rgba(0,0,0,0.02);\n",
      "    }\n",
      "    a:link, a:visited {\n",
      "        color: #38488f;\n",
      "        text-decoration: none;\n",
      "    }\n",
      "    @media (max-width: 700px) {\n",
      "        div {\n",
      "            margin: 0 auto;\n",
      "            width: auto;\n",
      "        }\n",
      "    }\n",
      "    </style>    \n",
      "</head>\n",
      "\n",
      "<body>\n",
      "<div>\n",
      "    <h1>Example Domain</h1>\n",
      "    <p>This domain is for use in illustrative examples in documents. You may use this\n",
      "    domain in literature without prior coordination or asking for permission.</p>\n",
      "    <p><a href=\"https://www.iana.org/domains/example\">More information...</a></p>\n",
      "</div>\n",
      "</body>\n",
      "</html>\n",
      "\n"
     ]
    }
   ],
   "source": [
    "print(response.text)"
   ]
  },
  {
   "cell_type": "code",
   "execution_count": 4,
   "id": "437b74cb",
   "metadata": {},
   "outputs": [
    {
     "data": {
      "text/plain": [
       "<Response [200]>"
      ]
     },
     "execution_count": 4,
     "metadata": {},
     "output_type": "execute_result"
    }
   ],
   "source": [
    "response = requests.get('https://aphorisms.glitch.me')\n",
    "response"
   ]
  },
  {
   "cell_type": "code",
   "execution_count": 5,
   "id": "712dfbdb",
   "metadata": {},
   "outputs": [
    {
     "data": {
      "text/plain": [
       "'{\"quote\":\"We don\\'t need to make our charts more complicated than they need to be\",\"author\":\"Ravinder Singh\"}'"
      ]
     },
     "execution_count": 5,
     "metadata": {},
     "output_type": "execute_result"
    }
   ],
   "source": [
    "response.text"
   ]
  },
  {
   "cell_type": "code",
   "execution_count": 6,
   "id": "49a10037",
   "metadata": {},
   "outputs": [
    {
     "data": {
      "text/plain": [
       "{'quote': \"We don't need to make our charts more complicated than they need to be\",\n",
       " 'author': 'Ravinder Singh'}"
      ]
     },
     "execution_count": 6,
     "metadata": {},
     "output_type": "execute_result"
    }
   ],
   "source": [
    "data = response.json()\n",
    "data"
   ]
  },
  {
   "cell_type": "code",
   "execution_count": 7,
   "id": "37761694",
   "metadata": {},
   "outputs": [
    {
     "data": {
      "text/plain": [
       "\"We don't need to make our charts more complicated than they need to be\""
      ]
     },
     "execution_count": 7,
     "metadata": {},
     "output_type": "execute_result"
    }
   ],
   "source": [
    "data['quote']"
   ]
  },
  {
   "cell_type": "code",
   "execution_count": 8,
   "id": "b2581397",
   "metadata": {},
   "outputs": [
    {
     "data": {
      "text/plain": [
       "'Ravinder Singh'"
      ]
     },
     "execution_count": 8,
     "metadata": {},
     "output_type": "execute_result"
    }
   ],
   "source": [
    "data['author']"
   ]
  },
  {
   "cell_type": "code",
   "execution_count": 9,
   "id": "b021edc8",
   "metadata": {},
   "outputs": [
    {
     "data": {
      "text/plain": [
       "{'api': '/api/v1', 'help': '/documentation'}"
      ]
     },
     "execution_count": 9,
     "metadata": {},
     "output_type": "execute_result"
    }
   ],
   "source": [
    "url = 'https://python.zgulde.net'\n",
    "response = requests.get(url)\n",
    "response.json()"
   ]
  },
  {
   "cell_type": "code",
   "execution_count": 10,
   "id": "8886bcd7",
   "metadata": {},
   "outputs": [],
   "source": [
    "# This tells us what we can add to url to get new info"
   ]
  },
  {
   "cell_type": "code",
   "execution_count": 11,
   "id": "a56d7997",
   "metadata": {},
   "outputs": [
    {
     "data": {
      "text/plain": [
       "{'payload': '\\nThe API accepts GET requests for all endpoints, where endpoints are prefixed\\nwith\\n\\n    /api/{version}\\n\\nWhere version is \"v1\"\\n\\nValid endpoints:\\n\\n- /stores[/{store_id}]\\n- /items[/{item_id}]\\n- /sales[/{sale_id}]\\n\\nAll endpoints accept a `page` parameter that can be used to navigate through\\nthe results.\\n',\n",
       " 'status': 'ok'}"
      ]
     },
     "execution_count": 11,
     "metadata": {},
     "output_type": "execute_result"
    }
   ],
   "source": [
    "url = 'https://python.zgulde.net' + '/documentation'\n",
    "response = requests.get(url)\n",
    "response.json()"
   ]
  },
  {
   "cell_type": "code",
   "execution_count": 12,
   "id": "dba58abe",
   "metadata": {},
   "outputs": [
    {
     "data": {
      "text/plain": [
       "'\\nThe API accepts GET requests for all endpoints, where endpoints are prefixed\\nwith\\n\\n    /api/{version}\\n\\nWhere version is \"v1\"\\n\\nValid endpoints:\\n\\n- /stores[/{store_id}]\\n- /items[/{item_id}]\\n- /sales[/{sale_id}]\\n\\nAll endpoints accept a `page` parameter that can be used to navigate through\\nthe results.\\n'"
      ]
     },
     "execution_count": 12,
     "metadata": {},
     "output_type": "execute_result"
    }
   ],
   "source": [
    "response.json()['payload']"
   ]
  },
  {
   "cell_type": "code",
   "execution_count": 13,
   "id": "82d71150",
   "metadata": {},
   "outputs": [
    {
     "name": "stdout",
     "output_type": "stream",
     "text": [
      "\n",
      "The API accepts GET requests for all endpoints, where endpoints are prefixed\n",
      "with\n",
      "\n",
      "    /api/{version}\n",
      "\n",
      "Where version is \"v1\"\n",
      "\n",
      "Valid endpoints:\n",
      "\n",
      "- /stores[/{store_id}]\n",
      "- /items[/{item_id}]\n",
      "- /sales[/{sale_id}]\n",
      "\n",
      "All endpoints accept a `page` parameter that can be used to navigate through\n",
      "the results.\n",
      "\n"
     ]
    }
   ],
   "source": [
    "print(response.json()['payload'])"
   ]
  },
  {
   "cell_type": "markdown",
   "id": "2e65d1c6",
   "metadata": {},
   "source": [
    "What's an endpoint?\n",
    "* An endpoint are the parts after the main url, called the domain.\n",
    "* In this case our endpoints go after .com in the url separated by slashes.\n",
    "Extra: .com, .gov, .net are known as TLD or Top Level Domains in a url\n",
    "So with this info we can now start retrieving data from the api\n",
    "Let's check out the stores data"
   ]
  },
  {
   "cell_type": "code",
   "execution_count": 14,
   "id": "ea88c3c0",
   "metadata": {
    "scrolled": true
   },
   "outputs": [
    {
     "data": {
      "text/plain": [
       "{'payload': {'max_page': 1,\n",
       "  'next_page': None,\n",
       "  'page': 1,\n",
       "  'previous_page': None,\n",
       "  'stores': [{'store_address': '12125 Alamo Ranch Pkwy',\n",
       "    'store_city': 'San Antonio',\n",
       "    'store_id': 1,\n",
       "    'store_state': 'TX',\n",
       "    'store_zipcode': '78253'},\n",
       "   {'store_address': '9255 FM 471 West',\n",
       "    'store_city': 'San Antonio',\n",
       "    'store_id': 2,\n",
       "    'store_state': 'TX',\n",
       "    'store_zipcode': '78251'},\n",
       "   {'store_address': '2118 Fredericksburg Rdj',\n",
       "    'store_city': 'San Antonio',\n",
       "    'store_id': 3,\n",
       "    'store_state': 'TX',\n",
       "    'store_zipcode': '78201'},\n",
       "   {'store_address': '516 S Flores St',\n",
       "    'store_city': 'San Antonio',\n",
       "    'store_id': 4,\n",
       "    'store_state': 'TX',\n",
       "    'store_zipcode': '78204'},\n",
       "   {'store_address': '1520 Austin Hwy',\n",
       "    'store_city': 'San Antonio',\n",
       "    'store_id': 5,\n",
       "    'store_state': 'TX',\n",
       "    'store_zipcode': '78218'},\n",
       "   {'store_address': '1015 S WW White Rd',\n",
       "    'store_city': 'San Antonio',\n",
       "    'store_id': 6,\n",
       "    'store_state': 'TX',\n",
       "    'store_zipcode': '78220'},\n",
       "   {'store_address': '12018 Perrin Beitel Rd',\n",
       "    'store_city': 'San Antonio',\n",
       "    'store_id': 7,\n",
       "    'store_state': 'TX',\n",
       "    'store_zipcode': '78217'},\n",
       "   {'store_address': '15000 San Pedro Ave',\n",
       "    'store_city': 'San Antonio',\n",
       "    'store_id': 8,\n",
       "    'store_state': 'TX',\n",
       "    'store_zipcode': '78232'},\n",
       "   {'store_address': '735 SW Military Dr',\n",
       "    'store_city': 'San Antonio',\n",
       "    'store_id': 9,\n",
       "    'store_state': 'TX',\n",
       "    'store_zipcode': '78221'},\n",
       "   {'store_address': '8503 NW Military Hwy',\n",
       "    'store_city': 'San Antonio',\n",
       "    'store_id': 10,\n",
       "    'store_state': 'TX',\n",
       "    'store_zipcode': '78231'}]},\n",
       " 'status': 'ok'}"
      ]
     },
     "execution_count": 14,
     "metadata": {},
     "output_type": "execute_result"
    }
   ],
   "source": [
    "url = 'https://python.zgulde.net/api/v1/stores'\n",
    "response = requests.get(url)\n",
    "data = response.json()\n",
    "data"
   ]
  },
  {
   "cell_type": "code",
   "execution_count": 15,
   "id": "c72deab5",
   "metadata": {},
   "outputs": [
    {
     "data": {
      "text/plain": [
       "dict_keys(['payload', 'status'])"
      ]
     },
     "execution_count": 15,
     "metadata": {},
     "output_type": "execute_result"
    }
   ],
   "source": [
    "data.keys()"
   ]
  },
  {
   "cell_type": "code",
   "execution_count": 16,
   "id": "ae45f5f1",
   "metadata": {},
   "outputs": [
    {
     "data": {
      "text/plain": [
       "'ok'"
      ]
     },
     "execution_count": 16,
     "metadata": {},
     "output_type": "execute_result"
    }
   ],
   "source": [
    "data['status']"
   ]
  },
  {
   "cell_type": "code",
   "execution_count": 17,
   "id": "dd83144d",
   "metadata": {
    "scrolled": true
   },
   "outputs": [
    {
     "data": {
      "text/plain": [
       "{'max_page': 1,\n",
       " 'next_page': None,\n",
       " 'page': 1,\n",
       " 'previous_page': None,\n",
       " 'stores': [{'store_address': '12125 Alamo Ranch Pkwy',\n",
       "   'store_city': 'San Antonio',\n",
       "   'store_id': 1,\n",
       "   'store_state': 'TX',\n",
       "   'store_zipcode': '78253'},\n",
       "  {'store_address': '9255 FM 471 West',\n",
       "   'store_city': 'San Antonio',\n",
       "   'store_id': 2,\n",
       "   'store_state': 'TX',\n",
       "   'store_zipcode': '78251'},\n",
       "  {'store_address': '2118 Fredericksburg Rdj',\n",
       "   'store_city': 'San Antonio',\n",
       "   'store_id': 3,\n",
       "   'store_state': 'TX',\n",
       "   'store_zipcode': '78201'},\n",
       "  {'store_address': '516 S Flores St',\n",
       "   'store_city': 'San Antonio',\n",
       "   'store_id': 4,\n",
       "   'store_state': 'TX',\n",
       "   'store_zipcode': '78204'},\n",
       "  {'store_address': '1520 Austin Hwy',\n",
       "   'store_city': 'San Antonio',\n",
       "   'store_id': 5,\n",
       "   'store_state': 'TX',\n",
       "   'store_zipcode': '78218'},\n",
       "  {'store_address': '1015 S WW White Rd',\n",
       "   'store_city': 'San Antonio',\n",
       "   'store_id': 6,\n",
       "   'store_state': 'TX',\n",
       "   'store_zipcode': '78220'},\n",
       "  {'store_address': '12018 Perrin Beitel Rd',\n",
       "   'store_city': 'San Antonio',\n",
       "   'store_id': 7,\n",
       "   'store_state': 'TX',\n",
       "   'store_zipcode': '78217'},\n",
       "  {'store_address': '15000 San Pedro Ave',\n",
       "   'store_city': 'San Antonio',\n",
       "   'store_id': 8,\n",
       "   'store_state': 'TX',\n",
       "   'store_zipcode': '78232'},\n",
       "  {'store_address': '735 SW Military Dr',\n",
       "   'store_city': 'San Antonio',\n",
       "   'store_id': 9,\n",
       "   'store_state': 'TX',\n",
       "   'store_zipcode': '78221'},\n",
       "  {'store_address': '8503 NW Military Hwy',\n",
       "   'store_city': 'San Antonio',\n",
       "   'store_id': 10,\n",
       "   'store_state': 'TX',\n",
       "   'store_zipcode': '78231'}]}"
      ]
     },
     "execution_count": 17,
     "metadata": {},
     "output_type": "execute_result"
    }
   ],
   "source": [
    "data['payload']"
   ]
  },
  {
   "cell_type": "code",
   "execution_count": 18,
   "id": "4bca2587",
   "metadata": {},
   "outputs": [
    {
     "data": {
      "text/plain": [
       "dict_keys(['max_page', 'next_page', 'page', 'previous_page', 'stores'])"
      ]
     },
     "execution_count": 18,
     "metadata": {},
     "output_type": "execute_result"
    }
   ],
   "source": [
    "data['payload'].keys()"
   ]
  },
  {
   "cell_type": "code",
   "execution_count": 19,
   "id": "15da01ae",
   "metadata": {},
   "outputs": [
    {
     "data": {
      "text/plain": [
       "[{'store_address': '12125 Alamo Ranch Pkwy',\n",
       "  'store_city': 'San Antonio',\n",
       "  'store_id': 1,\n",
       "  'store_state': 'TX',\n",
       "  'store_zipcode': '78253'},\n",
       " {'store_address': '9255 FM 471 West',\n",
       "  'store_city': 'San Antonio',\n",
       "  'store_id': 2,\n",
       "  'store_state': 'TX',\n",
       "  'store_zipcode': '78251'},\n",
       " {'store_address': '2118 Fredericksburg Rdj',\n",
       "  'store_city': 'San Antonio',\n",
       "  'store_id': 3,\n",
       "  'store_state': 'TX',\n",
       "  'store_zipcode': '78201'},\n",
       " {'store_address': '516 S Flores St',\n",
       "  'store_city': 'San Antonio',\n",
       "  'store_id': 4,\n",
       "  'store_state': 'TX',\n",
       "  'store_zipcode': '78204'},\n",
       " {'store_address': '1520 Austin Hwy',\n",
       "  'store_city': 'San Antonio',\n",
       "  'store_id': 5,\n",
       "  'store_state': 'TX',\n",
       "  'store_zipcode': '78218'},\n",
       " {'store_address': '1015 S WW White Rd',\n",
       "  'store_city': 'San Antonio',\n",
       "  'store_id': 6,\n",
       "  'store_state': 'TX',\n",
       "  'store_zipcode': '78220'},\n",
       " {'store_address': '12018 Perrin Beitel Rd',\n",
       "  'store_city': 'San Antonio',\n",
       "  'store_id': 7,\n",
       "  'store_state': 'TX',\n",
       "  'store_zipcode': '78217'},\n",
       " {'store_address': '15000 San Pedro Ave',\n",
       "  'store_city': 'San Antonio',\n",
       "  'store_id': 8,\n",
       "  'store_state': 'TX',\n",
       "  'store_zipcode': '78232'},\n",
       " {'store_address': '735 SW Military Dr',\n",
       "  'store_city': 'San Antonio',\n",
       "  'store_id': 9,\n",
       "  'store_state': 'TX',\n",
       "  'store_zipcode': '78221'},\n",
       " {'store_address': '8503 NW Military Hwy',\n",
       "  'store_city': 'San Antonio',\n",
       "  'store_id': 10,\n",
       "  'store_state': 'TX',\n",
       "  'store_zipcode': '78231'}]"
      ]
     },
     "execution_count": 19,
     "metadata": {},
     "output_type": "execute_result"
    }
   ],
   "source": [
    "data['payload']['stores']"
   ]
  },
  {
   "cell_type": "code",
   "execution_count": 20,
   "id": "e96144f2",
   "metadata": {},
   "outputs": [],
   "source": [
    "stores = pd.DataFrame(data['payload']['stores'])"
   ]
  },
  {
   "cell_type": "code",
   "execution_count": 21,
   "id": "ba746ce5",
   "metadata": {},
   "outputs": [],
   "source": [
    "#do the same with items"
   ]
  },
  {
   "cell_type": "code",
   "execution_count": 22,
   "id": "5a044c67",
   "metadata": {},
   "outputs": [
    {
     "data": {
      "text/plain": [
       "dict_keys(['payload', 'status'])"
      ]
     },
     "execution_count": 22,
     "metadata": {},
     "output_type": "execute_result"
    }
   ],
   "source": [
    "url = 'https://python.zgulde.net/api/v1/items'\n",
    "response = requests.get(url)\n",
    "data = response.json()\n",
    "data.keys()"
   ]
  },
  {
   "cell_type": "code",
   "execution_count": 23,
   "id": "b3e78459",
   "metadata": {},
   "outputs": [
    {
     "data": {
      "text/plain": [
       "'ok'"
      ]
     },
     "execution_count": 23,
     "metadata": {},
     "output_type": "execute_result"
    }
   ],
   "source": [
    "data['status']"
   ]
  },
  {
   "cell_type": "code",
   "execution_count": 24,
   "id": "f7e7e5c0",
   "metadata": {},
   "outputs": [
    {
     "data": {
      "text/plain": [
       "{'items': [{'item_brand': 'Riceland',\n",
       "   'item_id': 1,\n",
       "   'item_name': 'Riceland American Jazmine Rice',\n",
       "   'item_price': 0.84,\n",
       "   'item_upc12': '35200264013',\n",
       "   'item_upc14': '35200264013'},\n",
       "  {'item_brand': 'Caress',\n",
       "   'item_id': 2,\n",
       "   'item_name': 'Caress Velvet Bliss Ultra Silkening Beauty Bar - 6 Ct',\n",
       "   'item_price': 6.44,\n",
       "   'item_upc12': '11111065925',\n",
       "   'item_upc14': '11111065925'},\n",
       "  {'item_brand': 'Earths Best',\n",
       "   'item_id': 3,\n",
       "   'item_name': 'Earths Best Organic Fruit Yogurt Smoothie Mixed Berry',\n",
       "   'item_price': 2.43,\n",
       "   'item_upc12': '23923330139',\n",
       "   'item_upc14': '23923330139'},\n",
       "  {'item_brand': 'Boars Head',\n",
       "   'item_id': 4,\n",
       "   'item_name': 'Boars Head Sliced White American Cheese - 120 Ct',\n",
       "   'item_price': 3.14,\n",
       "   'item_upc12': '208528800007',\n",
       "   'item_upc14': '208528800007'},\n",
       "  {'item_brand': 'Back To Nature',\n",
       "   'item_id': 5,\n",
       "   'item_name': 'Back To Nature Gluten Free White Cheddar Rice Thin Crackers',\n",
       "   'item_price': 2.61,\n",
       "   'item_upc12': '759283100036',\n",
       "   'item_upc14': '759283100036'},\n",
       "  {'item_brand': 'Sally Hansen',\n",
       "   'item_id': 6,\n",
       "   'item_name': 'Sally Hansen Nail Color Magnetic 903 Silver Elements',\n",
       "   'item_price': 6.93,\n",
       "   'item_upc12': '74170388732',\n",
       "   'item_upc14': '74170388732'},\n",
       "  {'item_brand': 'Twinings Of London',\n",
       "   'item_id': 7,\n",
       "   'item_name': 'Twinings Of London Classics Lady Grey Tea - 20 Ct',\n",
       "   'item_price': 9.64,\n",
       "   'item_upc12': '70177154004',\n",
       "   'item_upc14': '70177154004'},\n",
       "  {'item_brand': 'Lea & Perrins',\n",
       "   'item_id': 8,\n",
       "   'item_name': 'Lea & Perrins Marinade In-a-bag Cracked Peppercorn',\n",
       "   'item_price': 1.68,\n",
       "   'item_upc12': '51600080015',\n",
       "   'item_upc14': '51600080015'},\n",
       "  {'item_brand': 'Van De Kamps',\n",
       "   'item_id': 9,\n",
       "   'item_name': 'Van De Kamps Fillets Beer Battered - 10 Ct',\n",
       "   'item_price': 1.79,\n",
       "   'item_upc12': '19600923015',\n",
       "   'item_upc14': '19600923015'},\n",
       "  {'item_brand': 'Ahold',\n",
       "   'item_id': 10,\n",
       "   'item_name': 'Ahold Cocoa Almonds',\n",
       "   'item_price': 3.17,\n",
       "   'item_upc12': '688267141676',\n",
       "   'item_upc14': '688267141676'},\n",
       "  {'item_brand': 'Honest Tea',\n",
       "   'item_id': 11,\n",
       "   'item_name': 'Honest Tea Peach White Tea',\n",
       "   'item_price': 3.93,\n",
       "   'item_upc12': '657622604842',\n",
       "   'item_upc14': '657622604842'},\n",
       "  {'item_brand': 'Mueller',\n",
       "   'item_id': 12,\n",
       "   'item_name': 'Mueller Sport Care Basic Support Level Medium Elastic Knee Support',\n",
       "   'item_price': 8.4,\n",
       "   'item_upc12': '74676640211',\n",
       "   'item_upc14': '74676640211'},\n",
       "  {'item_brand': 'Garnier Nutritioniste',\n",
       "   'item_id': 13,\n",
       "   'item_name': 'Garnier Nutritioniste Moisture Rescue Fresh Cleansing Foam',\n",
       "   'item_price': 6.47,\n",
       "   'item_upc12': '603084234561',\n",
       "   'item_upc14': '603084234561'},\n",
       "  {'item_brand': 'Pamprin',\n",
       "   'item_id': 14,\n",
       "   'item_name': 'Pamprin Maximum Strength Multi-symptom Menstrual Pain Relief',\n",
       "   'item_price': 7.54,\n",
       "   'item_upc12': '41167300121',\n",
       "   'item_upc14': '41167300121'},\n",
       "  {'item_brand': 'Suave',\n",
       "   'item_id': 15,\n",
       "   'item_name': 'Suave Naturals Moisturizing Body Wash Creamy Tropical Coconut',\n",
       "   'item_price': 9.11,\n",
       "   'item_upc12': '79400847201',\n",
       "   'item_upc14': '79400847201'},\n",
       "  {'item_brand': 'Burts Bees',\n",
       "   'item_id': 16,\n",
       "   'item_name': 'Burts Bees Daily Moisturizing Cream Sensitive',\n",
       "   'item_price': 5.17,\n",
       "   'item_upc12': '792850014008',\n",
       "   'item_upc14': '792850014008'},\n",
       "  {'item_brand': 'Ducal',\n",
       "   'item_id': 17,\n",
       "   'item_name': 'Ducal Refried Red Beans',\n",
       "   'item_price': 1.16,\n",
       "   'item_upc12': '88313590791',\n",
       "   'item_upc14': '88313590791'},\n",
       "  {'item_brand': 'Scotch',\n",
       "   'item_id': 18,\n",
       "   'item_name': 'Scotch Removable Clear Mounting Squares - 35 Ct',\n",
       "   'item_price': 4.39,\n",
       "   'item_upc12': '21200725340',\n",
       "   'item_upc14': '21200725340'},\n",
       "  {'item_brand': 'Careone',\n",
       "   'item_id': 19,\n",
       "   'item_name': 'Careone Family Comb Set - 8 Ct',\n",
       "   'item_price': 0.74,\n",
       "   'item_upc12': '41520035646',\n",
       "   'item_upc14': '41520035646'},\n",
       "  {'item_brand': 'Usda Produce',\n",
       "   'item_id': 20,\n",
       "   'item_name': 'Plums Black',\n",
       "   'item_price': 5.62,\n",
       "   'item_upc12': '204040000000',\n",
       "   'item_upc14': '204040000000'}],\n",
       " 'max_page': 3,\n",
       " 'next_page': '/api/v1/items?page=2',\n",
       " 'page': 1,\n",
       " 'previous_page': None}"
      ]
     },
     "execution_count": 24,
     "metadata": {},
     "output_type": "execute_result"
    }
   ],
   "source": [
    "data['payload']"
   ]
  },
  {
   "cell_type": "code",
   "execution_count": 25,
   "id": "cfecb1b3",
   "metadata": {},
   "outputs": [
    {
     "data": {
      "text/plain": [
       "dict_keys(['items', 'max_page', 'next_page', 'page', 'previous_page'])"
      ]
     },
     "execution_count": 25,
     "metadata": {},
     "output_type": "execute_result"
    }
   ],
   "source": [
    "data['payload'].keys()"
   ]
  },
  {
   "cell_type": "code",
   "execution_count": 26,
   "id": "c0ab9550",
   "metadata": {},
   "outputs": [
    {
     "data": {
      "text/plain": [
       "(1, 3, '/api/v1/items?page=2', None)"
      ]
     },
     "execution_count": 26,
     "metadata": {},
     "output_type": "execute_result"
    }
   ],
   "source": [
    "(\n",
    "    data['payload']['page'], \n",
    "    data['payload']['max_page'], \n",
    "    data['payload']['next_page'],\n",
    "    data['payload']['previous_page'],\n",
    ")"
   ]
  },
  {
   "cell_type": "code",
   "execution_count": 27,
   "id": "56b2ce25",
   "metadata": {},
   "outputs": [],
   "source": [
    "domain = 'https://python.zgulde.net'\n",
    "endpoint = '/api/v1/items'\n",
    "items = []\n",
    "\n",
    "url = domain + endpoint\n",
    "\n",
    "response = requests.get(url)\n",
    "data = response.json()\n",
    "# .extend adds elemnts from a list to another list\n",
    "items.extend(data['payload']['items'])"
   ]
  },
  {
   "cell_type": "code",
   "execution_count": 28,
   "id": "08d62d40",
   "metadata": {},
   "outputs": [
    {
     "data": {
      "text/plain": [
       "'/api/v1/items?page=2'"
      ]
     },
     "execution_count": 28,
     "metadata": {},
     "output_type": "execute_result"
    }
   ],
   "source": [
    "data['payload']['next_page']"
   ]
  },
  {
   "cell_type": "code",
   "execution_count": 29,
   "id": "abd8431d",
   "metadata": {},
   "outputs": [
    {
     "name": "stdout",
     "output_type": "stream",
     "text": [
      "Next url: https://python.zgulde.net/api/v1/items?page=2\n"
     ]
    }
   ],
   "source": [
    "url = domain + data['payload']['next_page']\n",
    "print('Next url:', url)"
   ]
  },
  {
   "cell_type": "code",
   "execution_count": 30,
   "id": "39bdbbb3",
   "metadata": {},
   "outputs": [],
   "source": [
    "response = requests.get(url)\n",
    "data = response.json()\n",
    "items.extend(data['payload']['items'])"
   ]
  },
  {
   "cell_type": "code",
   "execution_count": 31,
   "id": "72afe70f",
   "metadata": {},
   "outputs": [
    {
     "name": "stdout",
     "output_type": "stream",
     "text": [
      "next url: https://python.zgulde.net/api/v1/items?page=3\n"
     ]
    }
   ],
   "source": [
    "url = domain + data['payload']['next_page']\n",
    "print('next url:', url)"
   ]
  },
  {
   "cell_type": "code",
   "execution_count": 32,
   "id": "ebf01b9f",
   "metadata": {},
   "outputs": [],
   "source": [
    "response = requests.get(url)\n",
    "data = response.json()\n",
    "items.extend(data['payload']['items'])"
   ]
  },
  {
   "cell_type": "code",
   "execution_count": 33,
   "id": "f46b90e0",
   "metadata": {},
   "outputs": [
    {
     "name": "stdout",
     "output_type": "stream",
     "text": [
      "next endpoint None\n"
     ]
    }
   ],
   "source": [
    "# Hint hint: if data['payload']['next_page'] is None:\n",
    "print('next endpoint', data['payload']['next_page'])"
   ]
  },
  {
   "cell_type": "code",
   "execution_count": 8,
   "id": "02019304",
   "metadata": {},
   "outputs": [
    {
     "ename": "NameError",
     "evalue": "name 'pd' is not defined",
     "output_type": "error",
     "traceback": [
      "\u001b[1;31m---------------------------------------------------------------------------\u001b[0m",
      "\u001b[1;31mNameError\u001b[0m                                 Traceback (most recent call last)",
      "Input \u001b[1;32mIn [8]\u001b[0m, in \u001b[0;36m<cell line: 1>\u001b[1;34m()\u001b[0m\n\u001b[1;32m----> 1\u001b[0m items \u001b[38;5;241m=\u001b[39m \u001b[43mpd\u001b[49m\u001b[38;5;241m.\u001b[39mDataFrame(items)\n",
      "\u001b[1;31mNameError\u001b[0m: name 'pd' is not defined"
     ]
    }
   ],
   "source": [
    "items = pd.DataFrame(items)\n",
    "# next steps:\n",
    "# save to a csv or wrap up everything in a function"
   ]
  },
  {
   "cell_type": "code",
   "execution_count": null,
   "id": "600a8932",
   "metadata": {},
   "outputs": [],
   "source": [
    "# setup\n",
    "domain = 'https://python.zgulde.net'\n",
    "endpoint = '/api/v1/items'\n",
    "items = []\n",
    "\n",
    "# For each page -- until next page is None\n",
    "url = domain + endpoint\n",
    "response = requests.get(url)\n",
    "data = response.json()\n",
    "items.extend(data['payload']['items'])\n",
    "# update the endpoint\n",
    "endpoint = data['payload']['next_page']"
   ]
  },
  {
   "cell_type": "code",
   "execution_count": null,
   "id": "764638b8",
   "metadata": {},
   "outputs": [],
   "source": [
    "url = 'https://python.zgulde.net/api/v1/sales'\n",
    "response = requests.get(url)\n",
    "data = response.json()\n",
    "data"
   ]
  },
  {
   "cell_type": "code",
   "execution_count": null,
   "id": "872804d6",
   "metadata": {},
   "outputs": [],
   "source": [
    "# setup\n",
    "domain = 'https://python.zgulde.net'\n",
    "endpoint = '/api/v1/sales'\n",
    "sales = []\n",
    "\n",
    "# For each page -- until next page is None\n",
    "url = domain + endpoint\n",
    "response = requests.get(url)\n",
    "data = response.json()\n",
    "items.extend(data['payload']['sales'])\n",
    "# update the endpoint\n",
    "endpoint = data['payload']['next_page']"
   ]
  },
  {
   "cell_type": "markdown",
   "id": "ff74c36f",
   "metadata": {},
   "source": [
    "create a dataframe named items that has all of the data for items."
   ]
  },
  {
   "cell_type": "code",
   "execution_count": 45,
   "id": "db45809b",
   "metadata": {},
   "outputs": [],
   "source": [
    "# def get_items():\n",
    "#     \"\"\"\n",
    "#     -creates empty list\n",
    "#     -requests data structure from \"https://python.zach.lol/api/v1/items\"\n",
    "#     -loops to retrieve data dict from each page and append to list\n",
    "#     -returns appended list as dataframe\n",
    "#     \"\"\"\n",
    "#     items_list = []\n",
    "#     url = \"https://python.zach.lol/api/v1/items\"\n",
    "    \n",
    "#     response = requests.get(url)\n",
    "#     data = response.json()\n",
    "    \n",
    "#     n = data['payload']['max_page']\n",
    "    \n",
    "#     for i in range(1, n+1):\n",
    "#         new_url = url+'?page='+str(i)\n",
    "#         response = requests.get(new_url)\n",
    "#         data = response.json()\n",
    "#         page_items = data['payload']['items']\n",
    "#         items_list += page_items\n",
    "        \n",
    "#     items = pd.DataFrame(items_list)\n",
    "        \n",
    "#     return items"
   ]
  },
  {
   "cell_type": "code",
   "execution_count": 5,
   "id": "0061ddfb",
   "metadata": {},
   "outputs": [],
   "source": [
    "# def get_stores():\n",
    "#     \"\"\"\n",
    "#     -creates empty list\n",
    "#     -requests data structure from \"https://python.zach.lol/api/v1/stores\"\n",
    "#     -loops to retrieve data dict from each page and append to list\n",
    "#     -returns appended list as dataframe\n",
    "#     \"\"\"\n",
    "#     stores_list= []\n",
    "#     url = 'https://python.zach.lol/api/v1/stores'\n",
    "#     response = requests.get(url)\n",
    "#     data = response.json()\n",
    "    \n",
    "#     n=data['payload']['max_page']\n",
    "    \n",
    "#     for i in range(1, n+1):\n",
    "#         new_url = url+'?page='+str(i)\n",
    "#         response = requests.get(new_url)\n",
    "#         data = response.json()\n",
    "#         page_stores = data['payload']['stores']\n",
    "#         stores_list += page_stores\n",
    "    \n",
    "#     stores = pd.Dataframe(stores_list)\n",
    "    \n",
    "#     return stores"
   ]
  },
  {
   "cell_type": "code",
   "execution_count": 4,
   "id": "ed042942",
   "metadata": {},
   "outputs": [],
   "source": [
    "# def get_sales():\n",
    "#     \"\"\"\n",
    "#     -creates empty list\n",
    "#     -requests data structure from \"https://python.zgulde.net/api/v1/sales\"\n",
    "#     -loops to retrieve data dict from each page and append to list\n",
    "#     -returns appended list as dataframe\n",
    "#     \"\"\"\n",
    "#     sales_list= []\n",
    "#     url = 'https://python.zgulde.net/api/v1/sales'\n",
    "#     response = requests.get(url)\n",
    "#     data = response.json()\n",
    "    \n",
    "#     n=data['payload']['max_page']\n",
    "    \n",
    "#     for i in range(1, n+1):\n",
    "#         new_url = url+'?page='+str(i)\n",
    "#         response = requests.get(new_url)\n",
    "#         data = response.json()\n",
    "#         page_sales = data['payload']['sales']\n",
    "#         sales_list += page_sales\n",
    "    \n",
    "#     sales = pd.Dataframe(sales_list)\n",
    "    \n",
    "#     return sales"
   ]
  },
  {
   "cell_type": "markdown",
   "id": "9c527ce2",
   "metadata": {},
   "source": [
    "____________________________"
   ]
  },
  {
   "cell_type": "markdown",
   "id": "4c76096f",
   "metadata": {},
   "source": [
    "Question 1\n",
    "\n",
    "Using the code from the lesson as a guide and the REST API from https://python.zgulde.net/api/v1/items as we did in the lesson, create a dataframe named items that has all of the data for items."
   ]
  },
  {
   "cell_type": "code",
   "execution_count": 11,
   "id": "32f73a19",
   "metadata": {},
   "outputs": [
    {
     "data": {
      "text/plain": [
       "<Response [200]>"
      ]
     },
     "execution_count": 11,
     "metadata": {},
     "output_type": "execute_result"
    }
   ],
   "source": [
    "#Get a response from the website using requests\n",
    "response = requests.get('https://python.zgulde.net/api/v1/items')\n",
    "\n",
    "response"
   ]
  },
  {
   "cell_type": "code",
   "execution_count": 12,
   "id": "edd86d14",
   "metadata": {},
   "outputs": [
    {
     "data": {
      "text/plain": [
       "'{\"payload\":{\"items\":[{\"item_brand\":\"Riceland\",\"item_id\":1,\"item_name\":\"Riceland American Jazmine Rice\",\"item_price\":0.84,\"item_upc12\":\"35200264013\",\"item_upc14\":\"35200264013\"},{\"item_brand\":\"Caress\",\"item_id\":2,\"item_name\":\"Caress Velvet Bliss Ultra Silkening Beauty Bar - 6 Ct\",\"item_price\":6.44,\"item_upc12\":\"11111065925\",\"item_upc14\":\"11111065925\"},{\"item_brand\":\"Earths Best\",\"item_id\":3,\"item_name\":\"Earths Best Organic Fruit Yogurt Smoothie Mixed Berry\",\"item_price\":2.43,\"item_upc12\":\"23923330139\",\"item_upc14\":\"23923330139\"},{\"item_brand\":\"Boars Head\",\"item_id\":4,\"item_name\":\"Boars Head Sliced White American Cheese - 120 Ct\",\"item_price\":3.14,\"item_upc12\":\"208528800007\",\"item_upc14\":\"208528800007\"},{\"item_brand\":\"Back To Nature\",\"item_id\":5,\"item_name\":\"Back To Nature Gluten Free White Cheddar Rice Thin Crackers\",\"item_price\":2.61,\"item_upc12\":\"759283100036\",\"item_upc14\":\"759283100036\"},{\"item_brand\":\"Sally Hansen\",\"item_id\":6,\"item_name\":\"Sally Hansen Nail Color Magnetic 903 Silver Elements\",\"item_price\":6.93,\"item_upc12\":\"74170388732\",\"item_upc14\":\"74170388732\"},{\"item_brand\":\"Twinings Of London\",\"item_id\":7,\"item_name\":\"Twinings Of London Classics Lady Grey Tea - 20 Ct\",\"item_price\":9.64,\"item_upc12\":\"70177154004\",\"item_upc14\":\"70177154004\"},{\"item_brand\":\"Lea & Perrins\",\"item_id\":8,\"item_name\":\"Lea & Perrins Marinade In-a-bag Cracked Peppercorn\",\"item_price\":1.68,\"item_upc12\":\"51600080015\",\"item_upc14\":\"51600080015\"},{\"item_brand\":\"Van De Kamps\",\"item_id\":9,\"item_name\":\"Van De Kamps Fillets Beer Battered - 10 Ct\",\"item_price\":1.79,\"item_upc12\":\"19600923015\",\"item_upc14\":\"19600923015\"},{\"item_brand\":\"Ahold\",\"item_id\":10,\"item_name\":\"Ahold Cocoa Almonds\",\"item_price\":3.17,\"item_upc12\":\"688267141676\",\"item_upc14\":\"688267141676\"},{\"item_brand\":\"Honest Tea\",\"item_id\":11,\"item_name\":\"Honest Tea Peach White Tea\",\"item_price\":3.93,\"item_upc12\":\"657622604842\",\"item_upc14\":\"657622604842\"},{\"item_brand\":\"Mueller\",\"item_id\":12,\"item_name\":\"Mueller Sport Care Basic Support Level Medium Elastic Knee Support\",\"item_price\":8.4,\"item_upc12\":\"74676640211\",\"item_upc14\":\"74676640211\"},{\"item_brand\":\"Garnier Nutritioniste\",\"item_id\":13,\"item_name\":\"Garnier Nutritioniste Moisture Rescue Fresh Cleansing Foam\",\"item_price\":6.47,\"item_upc12\":\"603084234561\",\"item_upc14\":\"603084234561\"},{\"item_brand\":\"Pamprin\",\"item_id\":14,\"item_name\":\"Pamprin Maximum Strength Multi-symptom Menstrual Pain Relief\",\"item_price\":7.54,\"item_upc12\":\"41167300121\",\"item_upc14\":\"41167300121\"},{\"item_brand\":\"Suave\",\"item_id\":15,\"item_name\":\"Suave Naturals Moisturizing Body Wash Creamy Tropical Coconut\",\"item_price\":9.11,\"item_upc12\":\"79400847201\",\"item_upc14\":\"79400847201\"},{\"item_brand\":\"Burts Bees\",\"item_id\":16,\"item_name\":\"Burts Bees Daily Moisturizing Cream Sensitive\",\"item_price\":5.17,\"item_upc12\":\"792850014008\",\"item_upc14\":\"792850014008\"},{\"item_brand\":\"Ducal\",\"item_id\":17,\"item_name\":\"Ducal Refried Red Beans\",\"item_price\":1.16,\"item_upc12\":\"88313590791\",\"item_upc14\":\"88313590791\"},{\"item_brand\":\"Scotch\",\"item_id\":18,\"item_name\":\"Scotch Removable Clear Mounting Squares - 35 Ct\",\"item_price\":4.39,\"item_upc12\":\"21200725340\",\"item_upc14\":\"21200725340\"},{\"item_brand\":\"Careone\",\"item_id\":19,\"item_name\":\"Careone Family Comb Set - 8 Ct\",\"item_price\":0.74,\"item_upc12\":\"41520035646\",\"item_upc14\":\"41520035646\"},{\"item_brand\":\"Usda Produce\",\"item_id\":20,\"item_name\":\"Plums Black\",\"item_price\":5.62,\"item_upc12\":\"204040000000\",\"item_upc14\":\"204040000000\"}],\"max_page\":3,\"next_page\":\"/api/v1/items?page=2\",\"page\":1,\"previous_page\":null},\"status\":\"ok\"}\\n'"
      ]
     },
     "execution_count": 12,
     "metadata": {},
     "output_type": "execute_result"
    }
   ],
   "source": [
    "#Look at the text\n",
    "response.text"
   ]
  },
  {
   "cell_type": "code",
   "execution_count": 13,
   "id": "5f281dc7",
   "metadata": {},
   "outputs": [
    {
     "data": {
      "text/plain": [
       "dict_keys(['payload', 'status'])"
      ]
     },
     "execution_count": 13,
     "metadata": {},
     "output_type": "execute_result"
    }
   ],
   "source": [
    "#Store the response in a variable\n",
    "data = response.json()\n",
    "data.keys()"
   ]
  },
  {
   "cell_type": "code",
   "execution_count": 14,
   "id": "48fe1720",
   "metadata": {},
   "outputs": [
    {
     "data": {
      "text/plain": [
       "dict_keys(['items', 'max_page', 'next_page', 'page', 'previous_page'])"
      ]
     },
     "execution_count": 14,
     "metadata": {},
     "output_type": "execute_result"
    }
   ],
   "source": [
    "#Look at the keys within the payload dictionary\n",
    "data['payload'].keys()"
   ]
  },
  {
   "cell_type": "code",
   "execution_count": 15,
   "id": "6bab719a",
   "metadata": {},
   "outputs": [
    {
     "data": {
      "text/html": [
       "<div>\n",
       "<style scoped>\n",
       "    .dataframe tbody tr th:only-of-type {\n",
       "        vertical-align: middle;\n",
       "    }\n",
       "\n",
       "    .dataframe tbody tr th {\n",
       "        vertical-align: top;\n",
       "    }\n",
       "\n",
       "    .dataframe thead th {\n",
       "        text-align: right;\n",
       "    }\n",
       "</style>\n",
       "<table border=\"1\" class=\"dataframe\">\n",
       "  <thead>\n",
       "    <tr style=\"text-align: right;\">\n",
       "      <th></th>\n",
       "      <th>item_brand</th>\n",
       "      <th>item_id</th>\n",
       "      <th>item_name</th>\n",
       "      <th>item_price</th>\n",
       "      <th>item_upc12</th>\n",
       "      <th>item_upc14</th>\n",
       "    </tr>\n",
       "  </thead>\n",
       "  <tbody>\n",
       "    <tr>\n",
       "      <th>0</th>\n",
       "      <td>Riceland</td>\n",
       "      <td>1</td>\n",
       "      <td>Riceland American Jazmine Rice</td>\n",
       "      <td>0.84</td>\n",
       "      <td>35200264013</td>\n",
       "      <td>35200264013</td>\n",
       "    </tr>\n",
       "    <tr>\n",
       "      <th>1</th>\n",
       "      <td>Caress</td>\n",
       "      <td>2</td>\n",
       "      <td>Caress Velvet Bliss Ultra Silkening Beauty Bar...</td>\n",
       "      <td>6.44</td>\n",
       "      <td>11111065925</td>\n",
       "      <td>11111065925</td>\n",
       "    </tr>\n",
       "    <tr>\n",
       "      <th>2</th>\n",
       "      <td>Earths Best</td>\n",
       "      <td>3</td>\n",
       "      <td>Earths Best Organic Fruit Yogurt Smoothie Mixe...</td>\n",
       "      <td>2.43</td>\n",
       "      <td>23923330139</td>\n",
       "      <td>23923330139</td>\n",
       "    </tr>\n",
       "    <tr>\n",
       "      <th>3</th>\n",
       "      <td>Boars Head</td>\n",
       "      <td>4</td>\n",
       "      <td>Boars Head Sliced White American Cheese - 120 Ct</td>\n",
       "      <td>3.14</td>\n",
       "      <td>208528800007</td>\n",
       "      <td>208528800007</td>\n",
       "    </tr>\n",
       "    <tr>\n",
       "      <th>4</th>\n",
       "      <td>Back To Nature</td>\n",
       "      <td>5</td>\n",
       "      <td>Back To Nature Gluten Free White Cheddar Rice ...</td>\n",
       "      <td>2.61</td>\n",
       "      <td>759283100036</td>\n",
       "      <td>759283100036</td>\n",
       "    </tr>\n",
       "  </tbody>\n",
       "</table>\n",
       "</div>"
      ],
      "text/plain": [
       "       item_brand  item_id                                          item_name  \\\n",
       "0        Riceland        1                     Riceland American Jazmine Rice   \n",
       "1          Caress        2  Caress Velvet Bliss Ultra Silkening Beauty Bar...   \n",
       "2     Earths Best        3  Earths Best Organic Fruit Yogurt Smoothie Mixe...   \n",
       "3      Boars Head        4   Boars Head Sliced White American Cheese - 120 Ct   \n",
       "4  Back To Nature        5  Back To Nature Gluten Free White Cheddar Rice ...   \n",
       "\n",
       "   item_price    item_upc12    item_upc14  \n",
       "0        0.84   35200264013   35200264013  \n",
       "1        6.44   11111065925   11111065925  \n",
       "2        2.43   23923330139   23923330139  \n",
       "3        3.14  208528800007  208528800007  \n",
       "4        2.61  759283100036  759283100036  "
      ]
     },
     "execution_count": 15,
     "metadata": {},
     "output_type": "execute_result"
    }
   ],
   "source": [
    "#Retrieve the items from the dictionary\n",
    "items = pd.DataFrame(data['payload']['items'])\n",
    "items.head()"
   ]
  },
  {
   "cell_type": "code",
   "execution_count": 16,
   "id": "85e87820",
   "metadata": {},
   "outputs": [
    {
     "data": {
      "text/plain": [
       "(20, 6)"
      ]
     },
     "execution_count": 16,
     "metadata": {},
     "output_type": "execute_result"
    }
   ],
   "source": [
    "#How many items are in the dataframe?\n",
    "items.shape"
   ]
  },
  {
   "cell_type": "markdown",
   "id": "eea5e110",
   "metadata": {},
   "source": [
    "At this point, we've retrieved all the information from the first page. Since there are more pages with data, we need to retrieve the data and concatenate it to the items dataframe."
   ]
  },
  {
   "cell_type": "code",
   "execution_count": 17,
   "id": "6a4f348c",
   "metadata": {},
   "outputs": [],
   "source": [
    "#Set a base url for additional requests\n",
    "base_url = 'https://python.zgulde.net'"
   ]
  },
  {
   "cell_type": "code",
   "execution_count": 18,
   "id": "15b46a97",
   "metadata": {},
   "outputs": [],
   "source": [
    "#Make a request for the information on the next page\n",
    "response2 = requests.get(base_url + data['payload']['next_page'])"
   ]
  },
  {
   "cell_type": "code",
   "execution_count": 19,
   "id": "74402019",
   "metadata": {},
   "outputs": [
    {
     "data": {
      "text/html": [
       "<div>\n",
       "<style scoped>\n",
       "    .dataframe tbody tr th:only-of-type {\n",
       "        vertical-align: middle;\n",
       "    }\n",
       "\n",
       "    .dataframe tbody tr th {\n",
       "        vertical-align: top;\n",
       "    }\n",
       "\n",
       "    .dataframe thead th {\n",
       "        text-align: right;\n",
       "    }\n",
       "</style>\n",
       "<table border=\"1\" class=\"dataframe\">\n",
       "  <thead>\n",
       "    <tr style=\"text-align: right;\">\n",
       "      <th></th>\n",
       "      <th>item_brand</th>\n",
       "      <th>item_id</th>\n",
       "      <th>item_name</th>\n",
       "      <th>item_price</th>\n",
       "      <th>item_upc12</th>\n",
       "      <th>item_upc14</th>\n",
       "    </tr>\n",
       "  </thead>\n",
       "  <tbody>\n",
       "    <tr>\n",
       "      <th>0</th>\n",
       "      <td>Doctors Best</td>\n",
       "      <td>21</td>\n",
       "      <td>Doctors Best Best Curcumin C3 Complex 1000mg T...</td>\n",
       "      <td>8.09</td>\n",
       "      <td>753950001954</td>\n",
       "      <td>753950001954</td>\n",
       "    </tr>\n",
       "    <tr>\n",
       "      <th>1</th>\n",
       "      <td>Betty Crocker</td>\n",
       "      <td>22</td>\n",
       "      <td>Betty Crocker Twin Pack Real Potatoes Scallope...</td>\n",
       "      <td>7.31</td>\n",
       "      <td>16000288829</td>\n",
       "      <td>16000288829</td>\n",
       "    </tr>\n",
       "    <tr>\n",
       "      <th>2</th>\n",
       "      <td>Reese</td>\n",
       "      <td>23</td>\n",
       "      <td>Reese Mandarin Oranges Segments In Light Syrup</td>\n",
       "      <td>1.78</td>\n",
       "      <td>70670009658</td>\n",
       "      <td>70670009658</td>\n",
       "    </tr>\n",
       "    <tr>\n",
       "      <th>3</th>\n",
       "      <td>Smart Living</td>\n",
       "      <td>24</td>\n",
       "      <td>Smart Living Charcoal Lighter Fluid</td>\n",
       "      <td>5.34</td>\n",
       "      <td>688267084225</td>\n",
       "      <td>688267084225</td>\n",
       "    </tr>\n",
       "    <tr>\n",
       "      <th>4</th>\n",
       "      <td>Hood</td>\n",
       "      <td>25</td>\n",
       "      <td>Hood Latte Iced Coffee Drink Vanilla Latte</td>\n",
       "      <td>2.43</td>\n",
       "      <td>44100117428</td>\n",
       "      <td>44100117428</td>\n",
       "    </tr>\n",
       "  </tbody>\n",
       "</table>\n",
       "</div>"
      ],
      "text/plain": [
       "      item_brand  item_id                                          item_name  \\\n",
       "0   Doctors Best       21  Doctors Best Best Curcumin C3 Complex 1000mg T...   \n",
       "1  Betty Crocker       22  Betty Crocker Twin Pack Real Potatoes Scallope...   \n",
       "2          Reese       23     Reese Mandarin Oranges Segments In Light Syrup   \n",
       "3   Smart Living       24                Smart Living Charcoal Lighter Fluid   \n",
       "4           Hood       25         Hood Latte Iced Coffee Drink Vanilla Latte   \n",
       "\n",
       "   item_price    item_upc12    item_upc14  \n",
       "0        8.09  753950001954  753950001954  \n",
       "1        7.31   16000288829   16000288829  \n",
       "2        1.78   70670009658   70670009658  \n",
       "3        5.34  688267084225  688267084225  \n",
       "4        2.43   44100117428   44100117428  "
      ]
     },
     "execution_count": 19,
     "metadata": {},
     "output_type": "execute_result"
    }
   ],
   "source": [
    "#Store the results of the request in a new dataframe\n",
    "data2 = response2.json()\n",
    "\n",
    "items2 = pd.DataFrame(data2['payload']['items'])\n",
    "items2.head()"
   ]
  },
  {
   "cell_type": "code",
   "execution_count": 20,
   "id": "f2195aa5",
   "metadata": {},
   "outputs": [
    {
     "data": {
      "text/plain": [
       "(40, 7)"
      ]
     },
     "execution_count": 20,
     "metadata": {},
     "output_type": "execute_result"
    }
   ],
   "source": [
    "#Add the results of my new request to the original dataframe\n",
    "items = pd.concat([items, items2]).reset_index()\n",
    "items.shape"
   ]
  },
  {
   "cell_type": "code",
   "execution_count": 21,
   "id": "9f93fedd",
   "metadata": {},
   "outputs": [
    {
     "data": {
      "text/html": [
       "<div>\n",
       "<style scoped>\n",
       "    .dataframe tbody tr th:only-of-type {\n",
       "        vertical-align: middle;\n",
       "    }\n",
       "\n",
       "    .dataframe tbody tr th {\n",
       "        vertical-align: top;\n",
       "    }\n",
       "\n",
       "    .dataframe thead th {\n",
       "        text-align: right;\n",
       "    }\n",
       "</style>\n",
       "<table border=\"1\" class=\"dataframe\">\n",
       "  <thead>\n",
       "    <tr style=\"text-align: right;\">\n",
       "      <th></th>\n",
       "      <th>index</th>\n",
       "      <th>item_brand</th>\n",
       "      <th>item_id</th>\n",
       "      <th>item_name</th>\n",
       "      <th>item_price</th>\n",
       "      <th>item_upc12</th>\n",
       "      <th>item_upc14</th>\n",
       "    </tr>\n",
       "  </thead>\n",
       "  <tbody>\n",
       "    <tr>\n",
       "      <th>0</th>\n",
       "      <td>0</td>\n",
       "      <td>Riceland</td>\n",
       "      <td>1</td>\n",
       "      <td>Riceland American Jazmine Rice</td>\n",
       "      <td>0.84</td>\n",
       "      <td>35200264013</td>\n",
       "      <td>35200264013</td>\n",
       "    </tr>\n",
       "    <tr>\n",
       "      <th>1</th>\n",
       "      <td>1</td>\n",
       "      <td>Caress</td>\n",
       "      <td>2</td>\n",
       "      <td>Caress Velvet Bliss Ultra Silkening Beauty Bar...</td>\n",
       "      <td>6.44</td>\n",
       "      <td>11111065925</td>\n",
       "      <td>11111065925</td>\n",
       "    </tr>\n",
       "    <tr>\n",
       "      <th>2</th>\n",
       "      <td>2</td>\n",
       "      <td>Earths Best</td>\n",
       "      <td>3</td>\n",
       "      <td>Earths Best Organic Fruit Yogurt Smoothie Mixe...</td>\n",
       "      <td>2.43</td>\n",
       "      <td>23923330139</td>\n",
       "      <td>23923330139</td>\n",
       "    </tr>\n",
       "    <tr>\n",
       "      <th>3</th>\n",
       "      <td>3</td>\n",
       "      <td>Boars Head</td>\n",
       "      <td>4</td>\n",
       "      <td>Boars Head Sliced White American Cheese - 120 Ct</td>\n",
       "      <td>3.14</td>\n",
       "      <td>208528800007</td>\n",
       "      <td>208528800007</td>\n",
       "    </tr>\n",
       "    <tr>\n",
       "      <th>4</th>\n",
       "      <td>4</td>\n",
       "      <td>Back To Nature</td>\n",
       "      <td>5</td>\n",
       "      <td>Back To Nature Gluten Free White Cheddar Rice ...</td>\n",
       "      <td>2.61</td>\n",
       "      <td>759283100036</td>\n",
       "      <td>759283100036</td>\n",
       "    </tr>\n",
       "  </tbody>\n",
       "</table>\n",
       "</div>"
      ],
      "text/plain": [
       "   index      item_brand  item_id  \\\n",
       "0      0        Riceland        1   \n",
       "1      1          Caress        2   \n",
       "2      2     Earths Best        3   \n",
       "3      3      Boars Head        4   \n",
       "4      4  Back To Nature        5   \n",
       "\n",
       "                                           item_name  item_price  \\\n",
       "0                     Riceland American Jazmine Rice        0.84   \n",
       "1  Caress Velvet Bliss Ultra Silkening Beauty Bar...        6.44   \n",
       "2  Earths Best Organic Fruit Yogurt Smoothie Mixe...        2.43   \n",
       "3   Boars Head Sliced White American Cheese - 120 Ct        3.14   \n",
       "4  Back To Nature Gluten Free White Cheddar Rice ...        2.61   \n",
       "\n",
       "     item_upc12    item_upc14  \n",
       "0   35200264013   35200264013  \n",
       "1   11111065925   11111065925  \n",
       "2   23923330139   23923330139  \n",
       "3  208528800007  208528800007  \n",
       "4  759283100036  759283100036  "
      ]
     },
     "execution_count": 21,
     "metadata": {},
     "output_type": "execute_result"
    }
   ],
   "source": [
    "#Check the results\n",
    "items.head()"
   ]
  },
  {
   "cell_type": "code",
   "execution_count": 22,
   "id": "3880fef0",
   "metadata": {},
   "outputs": [
    {
     "data": {
      "text/html": [
       "<div>\n",
       "<style scoped>\n",
       "    .dataframe tbody tr th:only-of-type {\n",
       "        vertical-align: middle;\n",
       "    }\n",
       "\n",
       "    .dataframe tbody tr th {\n",
       "        vertical-align: top;\n",
       "    }\n",
       "\n",
       "    .dataframe thead th {\n",
       "        text-align: right;\n",
       "    }\n",
       "</style>\n",
       "<table border=\"1\" class=\"dataframe\">\n",
       "  <thead>\n",
       "    <tr style=\"text-align: right;\">\n",
       "      <th></th>\n",
       "      <th>item_brand</th>\n",
       "      <th>item_id</th>\n",
       "      <th>item_name</th>\n",
       "      <th>item_price</th>\n",
       "      <th>item_upc12</th>\n",
       "      <th>item_upc14</th>\n",
       "    </tr>\n",
       "  </thead>\n",
       "  <tbody>\n",
       "    <tr>\n",
       "      <th>0</th>\n",
       "      <td>P.f. Changs</td>\n",
       "      <td>41</td>\n",
       "      <td>P.f. Changs Home Menu Meal For Two Beef With B...</td>\n",
       "      <td>5.62</td>\n",
       "      <td>31000670016</td>\n",
       "      <td>31000670016</td>\n",
       "    </tr>\n",
       "    <tr>\n",
       "      <th>1</th>\n",
       "      <td>Moms Best Naturals</td>\n",
       "      <td>42</td>\n",
       "      <td>Moms Best Naturals Cereal Toasted Cinnamon Squ...</td>\n",
       "      <td>2.97</td>\n",
       "      <td>883978129115</td>\n",
       "      <td>883978129115</td>\n",
       "    </tr>\n",
       "    <tr>\n",
       "      <th>2</th>\n",
       "      <td>Ferrara</td>\n",
       "      <td>43</td>\n",
       "      <td>Ferrara Vanilla Syrup</td>\n",
       "      <td>8.40</td>\n",
       "      <td>71403000379</td>\n",
       "      <td>71403000379</td>\n",
       "    </tr>\n",
       "    <tr>\n",
       "      <th>3</th>\n",
       "      <td>Elmers</td>\n",
       "      <td>44</td>\n",
       "      <td>Elmers Board Mate Dual Tip Glue Pen</td>\n",
       "      <td>7.06</td>\n",
       "      <td>26000001403</td>\n",
       "      <td>26000001403</td>\n",
       "    </tr>\n",
       "    <tr>\n",
       "      <th>4</th>\n",
       "      <td>Kelloggs</td>\n",
       "      <td>45</td>\n",
       "      <td>Kelloggs Disney Pixar Cars 2 Cereal</td>\n",
       "      <td>4.40</td>\n",
       "      <td>38000542237</td>\n",
       "      <td>38000542237</td>\n",
       "    </tr>\n",
       "  </tbody>\n",
       "</table>\n",
       "</div>"
      ],
      "text/plain": [
       "           item_brand  item_id  \\\n",
       "0         P.f. Changs       41   \n",
       "1  Moms Best Naturals       42   \n",
       "2             Ferrara       43   \n",
       "3              Elmers       44   \n",
       "4            Kelloggs       45   \n",
       "\n",
       "                                           item_name  item_price  \\\n",
       "0  P.f. Changs Home Menu Meal For Two Beef With B...        5.62   \n",
       "1  Moms Best Naturals Cereal Toasted Cinnamon Squ...        2.97   \n",
       "2                              Ferrara Vanilla Syrup        8.40   \n",
       "3                Elmers Board Mate Dual Tip Glue Pen        7.06   \n",
       "4                Kelloggs Disney Pixar Cars 2 Cereal        4.40   \n",
       "\n",
       "     item_upc12    item_upc14  \n",
       "0   31000670016   31000670016  \n",
       "1  883978129115  883978129115  \n",
       "2   71403000379   71403000379  \n",
       "3   26000001403   26000001403  \n",
       "4   38000542237   38000542237  "
      ]
     },
     "execution_count": 22,
     "metadata": {},
     "output_type": "execute_result"
    }
   ],
   "source": [
    "#Make one more request for the final page of data\n",
    "response3 = requests.get(base_url + data2['payload']['next_page'])\n",
    "\n",
    "data3 = response3.json()\n",
    "\n",
    "items3 = pd.DataFrame(data3['payload']['items'])\n",
    "\n",
    "items3.head()"
   ]
  },
  {
   "cell_type": "code",
   "execution_count": 23,
   "id": "57886174",
   "metadata": {},
   "outputs": [
    {
     "data": {
      "text/plain": [
       "(50, 8)"
      ]
     },
     "execution_count": 23,
     "metadata": {},
     "output_type": "execute_result"
    }
   ],
   "source": [
    "#Add the results to my items dataframe\n",
    "items = pd.concat([items, items3]).reset_index()\n",
    "items.shape"
   ]
  },
  {
   "cell_type": "markdown",
   "id": "bbc7ff38",
   "metadata": {},
   "source": [
    "Question 2\n",
    "Do the same thing, but for stores (https://python.zgulde.net/api/v1/stores)"
   ]
  },
  {
   "cell_type": "code",
   "execution_count": 24,
   "id": "2d6b7f78",
   "metadata": {},
   "outputs": [
    {
     "data": {
      "text/plain": [
       "dict_keys(['payload', 'status'])"
      ]
     },
     "execution_count": 24,
     "metadata": {},
     "output_type": "execute_result"
    }
   ],
   "source": [
    "#Make a request for the stores data\n",
    "response_stores = requests.get('https://python.zgulde.net/api/v1/stores')\n",
    "\n",
    "data_stores = response_stores.json()\n",
    "\n",
    "data_stores.keys()"
   ]
  },
  {
   "cell_type": "code",
   "execution_count": 25,
   "id": "4f79b8f5",
   "metadata": {},
   "outputs": [
    {
     "data": {
      "text/plain": [
       "dict_keys(['max_page', 'next_page', 'page', 'previous_page', 'stores'])"
      ]
     },
     "execution_count": 25,
     "metadata": {},
     "output_type": "execute_result"
    }
   ],
   "source": [
    "#Check out the keys\n",
    "data_stores['payload'].keys()"
   ]
  },
  {
   "cell_type": "code",
   "execution_count": 26,
   "id": "c7534a37",
   "metadata": {},
   "outputs": [
    {
     "data": {
      "text/html": [
       "<div>\n",
       "<style scoped>\n",
       "    .dataframe tbody tr th:only-of-type {\n",
       "        vertical-align: middle;\n",
       "    }\n",
       "\n",
       "    .dataframe tbody tr th {\n",
       "        vertical-align: top;\n",
       "    }\n",
       "\n",
       "    .dataframe thead th {\n",
       "        text-align: right;\n",
       "    }\n",
       "</style>\n",
       "<table border=\"1\" class=\"dataframe\">\n",
       "  <thead>\n",
       "    <tr style=\"text-align: right;\">\n",
       "      <th></th>\n",
       "      <th>store_address</th>\n",
       "      <th>store_city</th>\n",
       "      <th>store_id</th>\n",
       "      <th>store_state</th>\n",
       "      <th>store_zipcode</th>\n",
       "    </tr>\n",
       "  </thead>\n",
       "  <tbody>\n",
       "    <tr>\n",
       "      <th>0</th>\n",
       "      <td>12125 Alamo Ranch Pkwy</td>\n",
       "      <td>San Antonio</td>\n",
       "      <td>1</td>\n",
       "      <td>TX</td>\n",
       "      <td>78253</td>\n",
       "    </tr>\n",
       "    <tr>\n",
       "      <th>1</th>\n",
       "      <td>9255 FM 471 West</td>\n",
       "      <td>San Antonio</td>\n",
       "      <td>2</td>\n",
       "      <td>TX</td>\n",
       "      <td>78251</td>\n",
       "    </tr>\n",
       "    <tr>\n",
       "      <th>2</th>\n",
       "      <td>2118 Fredericksburg Rdj</td>\n",
       "      <td>San Antonio</td>\n",
       "      <td>3</td>\n",
       "      <td>TX</td>\n",
       "      <td>78201</td>\n",
       "    </tr>\n",
       "    <tr>\n",
       "      <th>3</th>\n",
       "      <td>516 S Flores St</td>\n",
       "      <td>San Antonio</td>\n",
       "      <td>4</td>\n",
       "      <td>TX</td>\n",
       "      <td>78204</td>\n",
       "    </tr>\n",
       "    <tr>\n",
       "      <th>4</th>\n",
       "      <td>1520 Austin Hwy</td>\n",
       "      <td>San Antonio</td>\n",
       "      <td>5</td>\n",
       "      <td>TX</td>\n",
       "      <td>78218</td>\n",
       "    </tr>\n",
       "  </tbody>\n",
       "</table>\n",
       "</div>"
      ],
      "text/plain": [
       "             store_address   store_city  store_id store_state store_zipcode\n",
       "0   12125 Alamo Ranch Pkwy  San Antonio         1          TX         78253\n",
       "1         9255 FM 471 West  San Antonio         2          TX         78251\n",
       "2  2118 Fredericksburg Rdj  San Antonio         3          TX         78201\n",
       "3          516 S Flores St  San Antonio         4          TX         78204\n",
       "4          1520 Austin Hwy  San Antonio         5          TX         78218"
      ]
     },
     "execution_count": 26,
     "metadata": {},
     "output_type": "execute_result"
    }
   ],
   "source": [
    "#Store the results of my request in a dataframe\n",
    "stores = pd.DataFrame(data_stores['payload']['stores'])\n",
    "\n",
    "stores.head()"
   ]
  },
  {
   "cell_type": "markdown",
   "id": "fd965871",
   "metadata": {},
   "source": [
    "Question 3\n",
    "\n",
    "Extract the data for sales (https://python.zgulde.net/api/v1/sales). There are a lot of pages of data here, so your code will need to be a little more complex. Your code should continue fetching data from the next page until all of the data is extracted."
   ]
  },
  {
   "cell_type": "code",
   "execution_count": 27,
   "id": "4ecbb0ee",
   "metadata": {},
   "outputs": [
    {
     "data": {
      "text/plain": [
       "dict_keys(['payload', 'status'])"
      ]
     },
     "execution_count": 27,
     "metadata": {},
     "output_type": "execute_result"
    }
   ],
   "source": [
    "#Make a request of the first page of data\n",
    "response_sales = requests.get('https://python.zgulde.net/api/v1/sales')\n",
    "\n",
    "data_sales = response_sales.json()\n",
    "\n",
    "data_sales.keys()"
   ]
  },
  {
   "cell_type": "code",
   "execution_count": 28,
   "id": "20638bba",
   "metadata": {},
   "outputs": [
    {
     "data": {
      "text/plain": [
       "dict_keys(['max_page', 'next_page', 'page', 'previous_page', 'sales'])"
      ]
     },
     "execution_count": 28,
     "metadata": {},
     "output_type": "execute_result"
    }
   ],
   "source": [
    "#Take a look at the keys\n",
    "data_sales['payload'].keys()"
   ]
  },
  {
   "cell_type": "code",
   "execution_count": 29,
   "id": "09db5e5e",
   "metadata": {},
   "outputs": [
    {
     "data": {
      "text/plain": [
       "(183, int)"
      ]
     },
     "execution_count": 29,
     "metadata": {},
     "output_type": "execute_result"
    }
   ],
   "source": [
    "#What's the max page in my dataset?\n",
    "data_sales['payload']['max_page'], type(data_sales['payload']['max_page'])"
   ]
  },
  {
   "cell_type": "code",
   "execution_count": 30,
   "id": "0ea1832b",
   "metadata": {},
   "outputs": [],
   "source": [
    "#Save the max page integer to a variable\n",
    "max_page_sales = data_sales['payload']['max_page']"
   ]
  },
  {
   "cell_type": "code",
   "execution_count": 31,
   "id": "c63da93b",
   "metadata": {},
   "outputs": [
    {
     "data": {
      "text/plain": [
       "(913000, 5)"
      ]
     },
     "execution_count": 31,
     "metadata": {},
     "output_type": "execute_result"
    }
   ],
   "source": [
    "#Loop through the pages and concatenate the request results to my dataframe\n",
    "sales_url = 'https://python.zgulde.net/api/v1/sales?page='\n",
    "\n",
    "sales = pd.DataFrame(data_sales['payload']['sales'])\n",
    "\n",
    "for i in range(2, max_page_sales + 1):\n",
    "    response = requests.get(sales_url + str(i))\n",
    "    json = response.json()\n",
    "    df = pd.DataFrame(json['payload']['sales'])\n",
    "    sales = pd.concat([sales, df])\n",
    "    \n",
    "sales.shape   "
   ]
  },
  {
   "cell_type": "code",
   "execution_count": null,
   "id": "fc954106",
   "metadata": {},
   "outputs": [],
   "source": [
    "#Reset the index\n",
    "sales.reset_index(inplace=True)"
   ]
  },
  {
   "cell_type": "markdown",
   "id": "d107441a",
   "metadata": {},
   "source": [
    "Question 4\n",
    "\n",
    "Save the data in your files to local csv files so that it will be faster to access in the future."
   ]
  },
  {
   "cell_type": "code",
   "execution_count": 32,
   "id": "7306df46",
   "metadata": {},
   "outputs": [],
   "source": [
    "#Store the results of my requests to csv files\n",
    "items.to_csv('items.csv')\n",
    "stores.to_csv('stores.csv')\n",
    "sales.to_csv('sales.csv')"
   ]
  },
  {
   "cell_type": "markdown",
   "id": "a9339387",
   "metadata": {},
   "source": [
    "Question 5\n",
    "\n",
    "Combine the data from your three separate dataframes into one large dataframe."
   ]
  },
  {
   "cell_type": "code",
   "execution_count": 37,
   "id": "506a8f01",
   "metadata": {},
   "outputs": [
    {
     "data": {
      "text/html": [
       "<div>\n",
       "<style scoped>\n",
       "    .dataframe tbody tr th:only-of-type {\n",
       "        vertical-align: middle;\n",
       "    }\n",
       "\n",
       "    .dataframe tbody tr th {\n",
       "        vertical-align: top;\n",
       "    }\n",
       "\n",
       "    .dataframe thead th {\n",
       "        text-align: right;\n",
       "    }\n",
       "</style>\n",
       "<table border=\"1\" class=\"dataframe\">\n",
       "  <thead>\n",
       "    <tr style=\"text-align: right;\">\n",
       "      <th></th>\n",
       "      <th>item</th>\n",
       "      <th>sale_amount</th>\n",
       "      <th>sale_date</th>\n",
       "      <th>sale_id</th>\n",
       "      <th>store</th>\n",
       "      <th>level_0</th>\n",
       "      <th>index</th>\n",
       "      <th>item_brand</th>\n",
       "      <th>item_id</th>\n",
       "      <th>item_name</th>\n",
       "      <th>item_price</th>\n",
       "      <th>item_upc12</th>\n",
       "      <th>item_upc14</th>\n",
       "    </tr>\n",
       "  </thead>\n",
       "  <tbody>\n",
       "    <tr>\n",
       "      <th>0</th>\n",
       "      <td>1</td>\n",
       "      <td>13.0</td>\n",
       "      <td>Tue, 01 Jan 2013 00:00:00 GMT</td>\n",
       "      <td>1</td>\n",
       "      <td>1</td>\n",
       "      <td>0</td>\n",
       "      <td>0.0</td>\n",
       "      <td>Riceland</td>\n",
       "      <td>1</td>\n",
       "      <td>Riceland American Jazmine Rice</td>\n",
       "      <td>0.84</td>\n",
       "      <td>35200264013</td>\n",
       "      <td>35200264013</td>\n",
       "    </tr>\n",
       "    <tr>\n",
       "      <th>1</th>\n",
       "      <td>1</td>\n",
       "      <td>11.0</td>\n",
       "      <td>Wed, 02 Jan 2013 00:00:00 GMT</td>\n",
       "      <td>2</td>\n",
       "      <td>1</td>\n",
       "      <td>0</td>\n",
       "      <td>0.0</td>\n",
       "      <td>Riceland</td>\n",
       "      <td>1</td>\n",
       "      <td>Riceland American Jazmine Rice</td>\n",
       "      <td>0.84</td>\n",
       "      <td>35200264013</td>\n",
       "      <td>35200264013</td>\n",
       "    </tr>\n",
       "    <tr>\n",
       "      <th>2</th>\n",
       "      <td>1</td>\n",
       "      <td>14.0</td>\n",
       "      <td>Thu, 03 Jan 2013 00:00:00 GMT</td>\n",
       "      <td>3</td>\n",
       "      <td>1</td>\n",
       "      <td>0</td>\n",
       "      <td>0.0</td>\n",
       "      <td>Riceland</td>\n",
       "      <td>1</td>\n",
       "      <td>Riceland American Jazmine Rice</td>\n",
       "      <td>0.84</td>\n",
       "      <td>35200264013</td>\n",
       "      <td>35200264013</td>\n",
       "    </tr>\n",
       "    <tr>\n",
       "      <th>3</th>\n",
       "      <td>1</td>\n",
       "      <td>13.0</td>\n",
       "      <td>Fri, 04 Jan 2013 00:00:00 GMT</td>\n",
       "      <td>4</td>\n",
       "      <td>1</td>\n",
       "      <td>0</td>\n",
       "      <td>0.0</td>\n",
       "      <td>Riceland</td>\n",
       "      <td>1</td>\n",
       "      <td>Riceland American Jazmine Rice</td>\n",
       "      <td>0.84</td>\n",
       "      <td>35200264013</td>\n",
       "      <td>35200264013</td>\n",
       "    </tr>\n",
       "    <tr>\n",
       "      <th>4</th>\n",
       "      <td>1</td>\n",
       "      <td>10.0</td>\n",
       "      <td>Sat, 05 Jan 2013 00:00:00 GMT</td>\n",
       "      <td>5</td>\n",
       "      <td>1</td>\n",
       "      <td>0</td>\n",
       "      <td>0.0</td>\n",
       "      <td>Riceland</td>\n",
       "      <td>1</td>\n",
       "      <td>Riceland American Jazmine Rice</td>\n",
       "      <td>0.84</td>\n",
       "      <td>35200264013</td>\n",
       "      <td>35200264013</td>\n",
       "    </tr>\n",
       "  </tbody>\n",
       "</table>\n",
       "</div>"
      ],
      "text/plain": [
       "   item  sale_amount                      sale_date  sale_id  store  level_0  \\\n",
       "0     1         13.0  Tue, 01 Jan 2013 00:00:00 GMT        1      1        0   \n",
       "1     1         11.0  Wed, 02 Jan 2013 00:00:00 GMT        2      1        0   \n",
       "2     1         14.0  Thu, 03 Jan 2013 00:00:00 GMT        3      1        0   \n",
       "3     1         13.0  Fri, 04 Jan 2013 00:00:00 GMT        4      1        0   \n",
       "4     1         10.0  Sat, 05 Jan 2013 00:00:00 GMT        5      1        0   \n",
       "\n",
       "   index item_brand  item_id                       item_name  item_price  \\\n",
       "0    0.0   Riceland        1  Riceland American Jazmine Rice        0.84   \n",
       "1    0.0   Riceland        1  Riceland American Jazmine Rice        0.84   \n",
       "2    0.0   Riceland        1  Riceland American Jazmine Rice        0.84   \n",
       "3    0.0   Riceland        1  Riceland American Jazmine Rice        0.84   \n",
       "4    0.0   Riceland        1  Riceland American Jazmine Rice        0.84   \n",
       "\n",
       "    item_upc12   item_upc14  \n",
       "0  35200264013  35200264013  \n",
       "1  35200264013  35200264013  \n",
       "2  35200264013  35200264013  \n",
       "3  35200264013  35200264013  \n",
       "4  35200264013  35200264013  "
      ]
     },
     "execution_count": 37,
     "metadata": {},
     "output_type": "execute_result"
    }
   ],
   "source": [
    "#Left merge items onto sales\n",
    "super_df = sales.merge(items, how='left',\n",
    "                       left_on='item', right_on='item_id')\n",
    "super_df.head()"
   ]
  },
  {
   "cell_type": "code",
   "execution_count": 38,
   "id": "2378450d",
   "metadata": {},
   "outputs": [
    {
     "data": {
      "text/html": [
       "<div>\n",
       "<style scoped>\n",
       "    .dataframe tbody tr th:only-of-type {\n",
       "        vertical-align: middle;\n",
       "    }\n",
       "\n",
       "    .dataframe tbody tr th {\n",
       "        vertical-align: top;\n",
       "    }\n",
       "\n",
       "    .dataframe thead th {\n",
       "        text-align: right;\n",
       "    }\n",
       "</style>\n",
       "<table border=\"1\" class=\"dataframe\">\n",
       "  <thead>\n",
       "    <tr style=\"text-align: right;\">\n",
       "      <th></th>\n",
       "      <th>item</th>\n",
       "      <th>sale_amount</th>\n",
       "      <th>sale_date</th>\n",
       "      <th>sale_id</th>\n",
       "      <th>store</th>\n",
       "      <th>level_0</th>\n",
       "      <th>index</th>\n",
       "      <th>item_brand</th>\n",
       "      <th>item_id</th>\n",
       "      <th>item_name</th>\n",
       "      <th>item_price</th>\n",
       "      <th>item_upc12</th>\n",
       "      <th>item_upc14</th>\n",
       "      <th>store_address</th>\n",
       "      <th>store_city</th>\n",
       "      <th>store_id</th>\n",
       "      <th>store_state</th>\n",
       "      <th>store_zipcode</th>\n",
       "    </tr>\n",
       "  </thead>\n",
       "  <tbody>\n",
       "    <tr>\n",
       "      <th>0</th>\n",
       "      <td>1</td>\n",
       "      <td>13.0</td>\n",
       "      <td>Tue, 01 Jan 2013 00:00:00 GMT</td>\n",
       "      <td>1</td>\n",
       "      <td>1</td>\n",
       "      <td>0</td>\n",
       "      <td>0.0</td>\n",
       "      <td>Riceland</td>\n",
       "      <td>1</td>\n",
       "      <td>Riceland American Jazmine Rice</td>\n",
       "      <td>0.84</td>\n",
       "      <td>35200264013</td>\n",
       "      <td>35200264013</td>\n",
       "      <td>12125 Alamo Ranch Pkwy</td>\n",
       "      <td>San Antonio</td>\n",
       "      <td>1</td>\n",
       "      <td>TX</td>\n",
       "      <td>78253</td>\n",
       "    </tr>\n",
       "    <tr>\n",
       "      <th>1</th>\n",
       "      <td>1</td>\n",
       "      <td>11.0</td>\n",
       "      <td>Wed, 02 Jan 2013 00:00:00 GMT</td>\n",
       "      <td>2</td>\n",
       "      <td>1</td>\n",
       "      <td>0</td>\n",
       "      <td>0.0</td>\n",
       "      <td>Riceland</td>\n",
       "      <td>1</td>\n",
       "      <td>Riceland American Jazmine Rice</td>\n",
       "      <td>0.84</td>\n",
       "      <td>35200264013</td>\n",
       "      <td>35200264013</td>\n",
       "      <td>12125 Alamo Ranch Pkwy</td>\n",
       "      <td>San Antonio</td>\n",
       "      <td>1</td>\n",
       "      <td>TX</td>\n",
       "      <td>78253</td>\n",
       "    </tr>\n",
       "    <tr>\n",
       "      <th>2</th>\n",
       "      <td>1</td>\n",
       "      <td>14.0</td>\n",
       "      <td>Thu, 03 Jan 2013 00:00:00 GMT</td>\n",
       "      <td>3</td>\n",
       "      <td>1</td>\n",
       "      <td>0</td>\n",
       "      <td>0.0</td>\n",
       "      <td>Riceland</td>\n",
       "      <td>1</td>\n",
       "      <td>Riceland American Jazmine Rice</td>\n",
       "      <td>0.84</td>\n",
       "      <td>35200264013</td>\n",
       "      <td>35200264013</td>\n",
       "      <td>12125 Alamo Ranch Pkwy</td>\n",
       "      <td>San Antonio</td>\n",
       "      <td>1</td>\n",
       "      <td>TX</td>\n",
       "      <td>78253</td>\n",
       "    </tr>\n",
       "    <tr>\n",
       "      <th>3</th>\n",
       "      <td>1</td>\n",
       "      <td>13.0</td>\n",
       "      <td>Fri, 04 Jan 2013 00:00:00 GMT</td>\n",
       "      <td>4</td>\n",
       "      <td>1</td>\n",
       "      <td>0</td>\n",
       "      <td>0.0</td>\n",
       "      <td>Riceland</td>\n",
       "      <td>1</td>\n",
       "      <td>Riceland American Jazmine Rice</td>\n",
       "      <td>0.84</td>\n",
       "      <td>35200264013</td>\n",
       "      <td>35200264013</td>\n",
       "      <td>12125 Alamo Ranch Pkwy</td>\n",
       "      <td>San Antonio</td>\n",
       "      <td>1</td>\n",
       "      <td>TX</td>\n",
       "      <td>78253</td>\n",
       "    </tr>\n",
       "    <tr>\n",
       "      <th>4</th>\n",
       "      <td>1</td>\n",
       "      <td>10.0</td>\n",
       "      <td>Sat, 05 Jan 2013 00:00:00 GMT</td>\n",
       "      <td>5</td>\n",
       "      <td>1</td>\n",
       "      <td>0</td>\n",
       "      <td>0.0</td>\n",
       "      <td>Riceland</td>\n",
       "      <td>1</td>\n",
       "      <td>Riceland American Jazmine Rice</td>\n",
       "      <td>0.84</td>\n",
       "      <td>35200264013</td>\n",
       "      <td>35200264013</td>\n",
       "      <td>12125 Alamo Ranch Pkwy</td>\n",
       "      <td>San Antonio</td>\n",
       "      <td>1</td>\n",
       "      <td>TX</td>\n",
       "      <td>78253</td>\n",
       "    </tr>\n",
       "  </tbody>\n",
       "</table>\n",
       "</div>"
      ],
      "text/plain": [
       "   item  sale_amount                      sale_date  sale_id  store  level_0  \\\n",
       "0     1         13.0  Tue, 01 Jan 2013 00:00:00 GMT        1      1        0   \n",
       "1     1         11.0  Wed, 02 Jan 2013 00:00:00 GMT        2      1        0   \n",
       "2     1         14.0  Thu, 03 Jan 2013 00:00:00 GMT        3      1        0   \n",
       "3     1         13.0  Fri, 04 Jan 2013 00:00:00 GMT        4      1        0   \n",
       "4     1         10.0  Sat, 05 Jan 2013 00:00:00 GMT        5      1        0   \n",
       "\n",
       "   index item_brand  item_id                       item_name  item_price  \\\n",
       "0    0.0   Riceland        1  Riceland American Jazmine Rice        0.84   \n",
       "1    0.0   Riceland        1  Riceland American Jazmine Rice        0.84   \n",
       "2    0.0   Riceland        1  Riceland American Jazmine Rice        0.84   \n",
       "3    0.0   Riceland        1  Riceland American Jazmine Rice        0.84   \n",
       "4    0.0   Riceland        1  Riceland American Jazmine Rice        0.84   \n",
       "\n",
       "    item_upc12   item_upc14           store_address   store_city  store_id  \\\n",
       "0  35200264013  35200264013  12125 Alamo Ranch Pkwy  San Antonio         1   \n",
       "1  35200264013  35200264013  12125 Alamo Ranch Pkwy  San Antonio         1   \n",
       "2  35200264013  35200264013  12125 Alamo Ranch Pkwy  San Antonio         1   \n",
       "3  35200264013  35200264013  12125 Alamo Ranch Pkwy  San Antonio         1   \n",
       "4  35200264013  35200264013  12125 Alamo Ranch Pkwy  San Antonio         1   \n",
       "\n",
       "  store_state store_zipcode  \n",
       "0          TX         78253  \n",
       "1          TX         78253  \n",
       "2          TX         78253  \n",
       "3          TX         78253  \n",
       "4          TX         78253  "
      ]
     },
     "execution_count": 38,
     "metadata": {},
     "output_type": "execute_result"
    }
   ],
   "source": [
    "#Left merge stores onto my super dataframe\n",
    "super_df = super_df.merge(stores, how='left',\n",
    "                          left_on='store', right_on='store_id')\n",
    "super_df.head()"
   ]
  },
  {
   "cell_type": "code",
   "execution_count": 41,
   "id": "6ace6f34",
   "metadata": {},
   "outputs": [
    {
     "data": {
      "text/html": [
       "<div>\n",
       "<style scoped>\n",
       "    .dataframe tbody tr th:only-of-type {\n",
       "        vertical-align: middle;\n",
       "    }\n",
       "\n",
       "    .dataframe tbody tr th {\n",
       "        vertical-align: top;\n",
       "    }\n",
       "\n",
       "    .dataframe thead th {\n",
       "        text-align: right;\n",
       "    }\n",
       "</style>\n",
       "<table border=\"1\" class=\"dataframe\">\n",
       "  <thead>\n",
       "    <tr style=\"text-align: right;\">\n",
       "      <th></th>\n",
       "      <th>sale_amount</th>\n",
       "      <th>sale_date</th>\n",
       "      <th>item_brand</th>\n",
       "      <th>item_name</th>\n",
       "      <th>item_price</th>\n",
       "      <th>store_address</th>\n",
       "      <th>store_city</th>\n",
       "      <th>store_state</th>\n",
       "      <th>store_zipcode</th>\n",
       "    </tr>\n",
       "  </thead>\n",
       "  <tbody>\n",
       "    <tr>\n",
       "      <th>0</th>\n",
       "      <td>13.0</td>\n",
       "      <td>Tue, 01 Jan 2013 00:00:00 GMT</td>\n",
       "      <td>Riceland</td>\n",
       "      <td>Riceland American Jazmine Rice</td>\n",
       "      <td>0.84</td>\n",
       "      <td>12125 Alamo Ranch Pkwy</td>\n",
       "      <td>San Antonio</td>\n",
       "      <td>TX</td>\n",
       "      <td>78253</td>\n",
       "    </tr>\n",
       "    <tr>\n",
       "      <th>1</th>\n",
       "      <td>11.0</td>\n",
       "      <td>Wed, 02 Jan 2013 00:00:00 GMT</td>\n",
       "      <td>Riceland</td>\n",
       "      <td>Riceland American Jazmine Rice</td>\n",
       "      <td>0.84</td>\n",
       "      <td>12125 Alamo Ranch Pkwy</td>\n",
       "      <td>San Antonio</td>\n",
       "      <td>TX</td>\n",
       "      <td>78253</td>\n",
       "    </tr>\n",
       "    <tr>\n",
       "      <th>2</th>\n",
       "      <td>14.0</td>\n",
       "      <td>Thu, 03 Jan 2013 00:00:00 GMT</td>\n",
       "      <td>Riceland</td>\n",
       "      <td>Riceland American Jazmine Rice</td>\n",
       "      <td>0.84</td>\n",
       "      <td>12125 Alamo Ranch Pkwy</td>\n",
       "      <td>San Antonio</td>\n",
       "      <td>TX</td>\n",
       "      <td>78253</td>\n",
       "    </tr>\n",
       "    <tr>\n",
       "      <th>3</th>\n",
       "      <td>13.0</td>\n",
       "      <td>Fri, 04 Jan 2013 00:00:00 GMT</td>\n",
       "      <td>Riceland</td>\n",
       "      <td>Riceland American Jazmine Rice</td>\n",
       "      <td>0.84</td>\n",
       "      <td>12125 Alamo Ranch Pkwy</td>\n",
       "      <td>San Antonio</td>\n",
       "      <td>TX</td>\n",
       "      <td>78253</td>\n",
       "    </tr>\n",
       "    <tr>\n",
       "      <th>4</th>\n",
       "      <td>10.0</td>\n",
       "      <td>Sat, 05 Jan 2013 00:00:00 GMT</td>\n",
       "      <td>Riceland</td>\n",
       "      <td>Riceland American Jazmine Rice</td>\n",
       "      <td>0.84</td>\n",
       "      <td>12125 Alamo Ranch Pkwy</td>\n",
       "      <td>San Antonio</td>\n",
       "      <td>TX</td>\n",
       "      <td>78253</td>\n",
       "    </tr>\n",
       "  </tbody>\n",
       "</table>\n",
       "</div>"
      ],
      "text/plain": [
       "   sale_amount                      sale_date item_brand  \\\n",
       "0         13.0  Tue, 01 Jan 2013 00:00:00 GMT   Riceland   \n",
       "1         11.0  Wed, 02 Jan 2013 00:00:00 GMT   Riceland   \n",
       "2         14.0  Thu, 03 Jan 2013 00:00:00 GMT   Riceland   \n",
       "3         13.0  Fri, 04 Jan 2013 00:00:00 GMT   Riceland   \n",
       "4         10.0  Sat, 05 Jan 2013 00:00:00 GMT   Riceland   \n",
       "\n",
       "                        item_name  item_price           store_address  \\\n",
       "0  Riceland American Jazmine Rice        0.84  12125 Alamo Ranch Pkwy   \n",
       "1  Riceland American Jazmine Rice        0.84  12125 Alamo Ranch Pkwy   \n",
       "2  Riceland American Jazmine Rice        0.84  12125 Alamo Ranch Pkwy   \n",
       "3  Riceland American Jazmine Rice        0.84  12125 Alamo Ranch Pkwy   \n",
       "4  Riceland American Jazmine Rice        0.84  12125 Alamo Ranch Pkwy   \n",
       "\n",
       "    store_city store_state store_zipcode  \n",
       "0  San Antonio          TX         78253  \n",
       "1  San Antonio          TX         78253  \n",
       "2  San Antonio          TX         78253  \n",
       "3  San Antonio          TX         78253  \n",
       "4  San Antonio          TX         78253  "
      ]
     },
     "execution_count": 41,
     "metadata": {},
     "output_type": "execute_result"
    }
   ],
   "source": [
    "#Drop unnecessary columns from my dataframe\n",
    "super_df.drop(columns=['index', 'item', 'sale_id', 'store', 'level_0',\n",
    "                       'item_id', 'item_upc12', 'item_upc14',\n",
    "                       'store_id'], inplace=True)\n",
    "super_df.head()"
   ]
  },
  {
   "cell_type": "code",
   "execution_count": 42,
   "id": "0b352282",
   "metadata": {},
   "outputs": [],
   "source": [
    "#Save my dataframe\n",
    "super_df.to_csv('merged_df.csv')"
   ]
  },
  {
   "cell_type": "markdown",
   "id": "a3334877",
   "metadata": {},
   "source": [
    "Question 6\n",
    "\n",
    "Acquire the Open Power Systems Data for Germany, which has been rapidly expanding its renewable energy production in recent years. The data set includes country-wide totals of electricity consumption, wind power production, and solar power production for 2006-2017. You can get the data here: https://raw.githubusercontent.com/jenfly/opsd/master/opsd_germany_daily.csv"
   ]
  },
  {
   "cell_type": "code",
   "execution_count": 43,
   "id": "ae49a020",
   "metadata": {},
   "outputs": [],
   "source": [
    "#Read a csv file from a url\n",
    "power_df = pd.read_csv('https://raw.githubusercontent.com/jenfly/opsd/master/opsd_germany_daily.csv')"
   ]
  },
  {
   "cell_type": "code",
   "execution_count": 44,
   "id": "a7b87b9c",
   "metadata": {},
   "outputs": [
    {
     "data": {
      "text/html": [
       "<div>\n",
       "<style scoped>\n",
       "    .dataframe tbody tr th:only-of-type {\n",
       "        vertical-align: middle;\n",
       "    }\n",
       "\n",
       "    .dataframe tbody tr th {\n",
       "        vertical-align: top;\n",
       "    }\n",
       "\n",
       "    .dataframe thead th {\n",
       "        text-align: right;\n",
       "    }\n",
       "</style>\n",
       "<table border=\"1\" class=\"dataframe\">\n",
       "  <thead>\n",
       "    <tr style=\"text-align: right;\">\n",
       "      <th></th>\n",
       "      <th>Date</th>\n",
       "      <th>Consumption</th>\n",
       "      <th>Wind</th>\n",
       "      <th>Solar</th>\n",
       "      <th>Wind+Solar</th>\n",
       "    </tr>\n",
       "  </thead>\n",
       "  <tbody>\n",
       "    <tr>\n",
       "      <th>0</th>\n",
       "      <td>2006-01-01</td>\n",
       "      <td>1069.184</td>\n",
       "      <td>NaN</td>\n",
       "      <td>NaN</td>\n",
       "      <td>NaN</td>\n",
       "    </tr>\n",
       "    <tr>\n",
       "      <th>1</th>\n",
       "      <td>2006-01-02</td>\n",
       "      <td>1380.521</td>\n",
       "      <td>NaN</td>\n",
       "      <td>NaN</td>\n",
       "      <td>NaN</td>\n",
       "    </tr>\n",
       "    <tr>\n",
       "      <th>2</th>\n",
       "      <td>2006-01-03</td>\n",
       "      <td>1442.533</td>\n",
       "      <td>NaN</td>\n",
       "      <td>NaN</td>\n",
       "      <td>NaN</td>\n",
       "    </tr>\n",
       "    <tr>\n",
       "      <th>3</th>\n",
       "      <td>2006-01-04</td>\n",
       "      <td>1457.217</td>\n",
       "      <td>NaN</td>\n",
       "      <td>NaN</td>\n",
       "      <td>NaN</td>\n",
       "    </tr>\n",
       "    <tr>\n",
       "      <th>4</th>\n",
       "      <td>2006-01-05</td>\n",
       "      <td>1477.131</td>\n",
       "      <td>NaN</td>\n",
       "      <td>NaN</td>\n",
       "      <td>NaN</td>\n",
       "    </tr>\n",
       "  </tbody>\n",
       "</table>\n",
       "</div>"
      ],
      "text/plain": [
       "         Date  Consumption  Wind  Solar  Wind+Solar\n",
       "0  2006-01-01     1069.184   NaN    NaN         NaN\n",
       "1  2006-01-02     1380.521   NaN    NaN         NaN\n",
       "2  2006-01-03     1442.533   NaN    NaN         NaN\n",
       "3  2006-01-04     1457.217   NaN    NaN         NaN\n",
       "4  2006-01-05     1477.131   NaN    NaN         NaN"
      ]
     },
     "execution_count": 44,
     "metadata": {},
     "output_type": "execute_result"
    }
   ],
   "source": [
    "#inspect\n",
    "power_df.head()"
   ]
  },
  {
   "cell_type": "code",
   "execution_count": 45,
   "id": "4007357f",
   "metadata": {},
   "outputs": [],
   "source": [
    "#Save to csv\n",
    "power_df.to_csv('power.csv')"
   ]
  },
  {
   "cell_type": "markdown",
   "id": "f147404c",
   "metadata": {},
   "source": [
    "Question 7\n",
    "\n",
    "Make sure all the work that you have done above is reproducible. That is, you should put the code above into separate functions in the acquire.py file and be able to re-run the functions and get the same data."
   ]
  },
  {
   "cell_type": "code",
   "execution_count": 46,
   "id": "8eea00f7",
   "metadata": {},
   "outputs": [],
   "source": [
    "#Define a function to read all items data and return a dataframe\n",
    "def get_items():\n",
    "    \n",
    "    base_url = 'https://python.zgulde.net'\n",
    "    \n",
    "    response = requests.get('https://python.zgulde.net/api/v1/items')\n",
    "    \n",
    "    data = response.json()\n",
    "    \n",
    "    items = pd.DataFrame(data['payload']['items'])\n",
    "    \n",
    "    next_page = data['payload']['next_page']\n",
    "    \n",
    "    while next_page != None:\n",
    "        \n",
    "        response = requests.get(base_url + next_page)\n",
    "        \n",
    "        data = response.json()\n",
    "        \n",
    "        next_page = data['payload']['next_page']\n",
    "        \n",
    "        new_items = pd.DataFrame(data['payload']['items'])\n",
    "        \n",
    "        items = pd.concat([items, new_items])\n",
    "    \n",
    "    items.reset_index(drop=True, inplace=True)\n",
    "    \n",
    "    #items.to_csv('items.csv')\n",
    "    \n",
    "    return items"
   ]
  },
  {
   "cell_type": "code",
   "execution_count": 47,
   "id": "126873c4",
   "metadata": {},
   "outputs": [
    {
     "data": {
      "text/html": [
       "<div>\n",
       "<style scoped>\n",
       "    .dataframe tbody tr th:only-of-type {\n",
       "        vertical-align: middle;\n",
       "    }\n",
       "\n",
       "    .dataframe tbody tr th {\n",
       "        vertical-align: top;\n",
       "    }\n",
       "\n",
       "    .dataframe thead th {\n",
       "        text-align: right;\n",
       "    }\n",
       "</style>\n",
       "<table border=\"1\" class=\"dataframe\">\n",
       "  <thead>\n",
       "    <tr style=\"text-align: right;\">\n",
       "      <th></th>\n",
       "      <th>item_brand</th>\n",
       "      <th>item_id</th>\n",
       "      <th>item_name</th>\n",
       "      <th>item_price</th>\n",
       "      <th>item_upc12</th>\n",
       "      <th>item_upc14</th>\n",
       "    </tr>\n",
       "  </thead>\n",
       "  <tbody>\n",
       "    <tr>\n",
       "      <th>0</th>\n",
       "      <td>Riceland</td>\n",
       "      <td>1</td>\n",
       "      <td>Riceland American Jazmine Rice</td>\n",
       "      <td>0.84</td>\n",
       "      <td>35200264013</td>\n",
       "      <td>35200264013</td>\n",
       "    </tr>\n",
       "    <tr>\n",
       "      <th>1</th>\n",
       "      <td>Caress</td>\n",
       "      <td>2</td>\n",
       "      <td>Caress Velvet Bliss Ultra Silkening Beauty Bar...</td>\n",
       "      <td>6.44</td>\n",
       "      <td>11111065925</td>\n",
       "      <td>11111065925</td>\n",
       "    </tr>\n",
       "    <tr>\n",
       "      <th>2</th>\n",
       "      <td>Earths Best</td>\n",
       "      <td>3</td>\n",
       "      <td>Earths Best Organic Fruit Yogurt Smoothie Mixe...</td>\n",
       "      <td>2.43</td>\n",
       "      <td>23923330139</td>\n",
       "      <td>23923330139</td>\n",
       "    </tr>\n",
       "    <tr>\n",
       "      <th>3</th>\n",
       "      <td>Boars Head</td>\n",
       "      <td>4</td>\n",
       "      <td>Boars Head Sliced White American Cheese - 120 Ct</td>\n",
       "      <td>3.14</td>\n",
       "      <td>208528800007</td>\n",
       "      <td>208528800007</td>\n",
       "    </tr>\n",
       "    <tr>\n",
       "      <th>4</th>\n",
       "      <td>Back To Nature</td>\n",
       "      <td>5</td>\n",
       "      <td>Back To Nature Gluten Free White Cheddar Rice ...</td>\n",
       "      <td>2.61</td>\n",
       "      <td>759283100036</td>\n",
       "      <td>759283100036</td>\n",
       "    </tr>\n",
       "  </tbody>\n",
       "</table>\n",
       "</div>"
      ],
      "text/plain": [
       "       item_brand  item_id                                          item_name  \\\n",
       "0        Riceland        1                     Riceland American Jazmine Rice   \n",
       "1          Caress        2  Caress Velvet Bliss Ultra Silkening Beauty Bar...   \n",
       "2     Earths Best        3  Earths Best Organic Fruit Yogurt Smoothie Mixe...   \n",
       "3      Boars Head        4   Boars Head Sliced White American Cheese - 120 Ct   \n",
       "4  Back To Nature        5  Back To Nature Gluten Free White Cheddar Rice ...   \n",
       "\n",
       "   item_price    item_upc12    item_upc14  \n",
       "0        0.84   35200264013   35200264013  \n",
       "1        6.44   11111065925   11111065925  \n",
       "2        2.43   23923330139   23923330139  \n",
       "3        3.14  208528800007  208528800007  \n",
       "4        2.61  759283100036  759283100036  "
      ]
     },
     "execution_count": 47,
     "metadata": {},
     "output_type": "execute_result"
    }
   ],
   "source": [
    "#Execute the function and look at results\n",
    "items_test = get_items()\n",
    "items_test.head()"
   ]
  },
  {
   "cell_type": "code",
   "execution_count": 52,
   "id": "8f0c57e0",
   "metadata": {},
   "outputs": [],
   "source": [
    "#Define a function to read all items data and return a dataframe\n",
    "def get_sales():\n",
    "    \n",
    "    base_url = 'https://python.zgulde.net'\n",
    "    \n",
    "    response = requests.get('https://python.zgulde.net/api/v1/sales')\n",
    "    \n",
    "    data = response.json()\n",
    "    \n",
    "    sales = pd.DataFrame(data['payload']['sales'])\n",
    "    \n",
    "    next_page = data['payload']['next_page']\n",
    "    \n",
    "    while next_page != None:\n",
    "        \n",
    "        response = requests.get(base_url + next_page)\n",
    "        \n",
    "        data = response.json()\n",
    "        \n",
    "        next_page = data['payload']['next_page']\n",
    "        \n",
    "        new_sales = pd.DataFrame(data['payload']['sales'])\n",
    "        \n",
    "        sales = pd.concat([sales, new_sales])\n",
    "    \n",
    "    sales.reset_index(drop=True, inplace=True)\n",
    "    \n",
    "    #sales.to_csv('sales.csv')\n",
    "    \n",
    "    return sales"
   ]
  },
  {
   "cell_type": "code",
   "execution_count": 51,
   "id": "8a7f5a8f",
   "metadata": {},
   "outputs": [],
   "source": [
    "#Define a function to read all items data and return a dataframe\n",
    "def get_stores():\n",
    "    \n",
    "    base_url = 'https://python.zgulde.net'\n",
    "    \n",
    "    response = requests.get('https://python.zgulde.net/api/v1/stores')\n",
    "    \n",
    "    data = response.json()\n",
    "    \n",
    "    stores = pd.DataFrame(data['payload']['stores'])\n",
    "    \n",
    "    next_page = data['payload']['next_page']\n",
    "    \n",
    "    while next_page != None:\n",
    "        \n",
    "        response = requests.get(base_url + next_page)\n",
    "        \n",
    "        data = response.json()\n",
    "        \n",
    "        next_page = data['payload']['next_page']\n",
    "        \n",
    "        new_stores = pd.DataFrame(data['payload']['stores'])\n",
    "        \n",
    "        stores = pd.concat([stores, new_stores])\n",
    "    \n",
    "    stores.reset_index(drop=True, inplace=True)\n",
    "    \n",
    "    #stores.to_csv('stores.csv')\n",
    "    \n",
    "    return stores"
   ]
  },
  {
   "cell_type": "code",
   "execution_count": null,
   "id": "1a28f0f8",
   "metadata": {},
   "outputs": [],
   "source": []
  },
  {
   "cell_type": "code",
   "execution_count": null,
   "id": "c4598e3f",
   "metadata": {},
   "outputs": [],
   "source": []
  },
  {
   "cell_type": "code",
   "execution_count": null,
   "id": "bdff1247",
   "metadata": {},
   "outputs": [],
   "source": []
  },
  {
   "cell_type": "code",
   "execution_count": null,
   "id": "a7d621f1",
   "metadata": {},
   "outputs": [],
   "source": []
  },
  {
   "cell_type": "code",
   "execution_count": null,
   "id": "f6c2214e",
   "metadata": {},
   "outputs": [],
   "source": []
  },
  {
   "cell_type": "code",
   "execution_count": null,
   "id": "81e552f2",
   "metadata": {},
   "outputs": [],
   "source": []
  },
  {
   "cell_type": "code",
   "execution_count": null,
   "id": "c736d606",
   "metadata": {},
   "outputs": [],
   "source": []
  },
  {
   "cell_type": "code",
   "execution_count": null,
   "id": "9f31ceb8",
   "metadata": {},
   "outputs": [],
   "source": []
  },
  {
   "cell_type": "code",
   "execution_count": null,
   "id": "5f64faf6",
   "metadata": {},
   "outputs": [],
   "source": []
  },
  {
   "cell_type": "code",
   "execution_count": null,
   "id": "c7bd038a",
   "metadata": {},
   "outputs": [],
   "source": []
  },
  {
   "cell_type": "code",
   "execution_count": null,
   "id": "f9dafa28",
   "metadata": {},
   "outputs": [],
   "source": []
  },
  {
   "cell_type": "code",
   "execution_count": null,
   "id": "335700e4",
   "metadata": {},
   "outputs": [],
   "source": []
  },
  {
   "cell_type": "code",
   "execution_count": null,
   "id": "09ea6fe3",
   "metadata": {},
   "outputs": [],
   "source": []
  },
  {
   "cell_type": "code",
   "execution_count": null,
   "id": "08769cd9",
   "metadata": {},
   "outputs": [],
   "source": []
  },
  {
   "cell_type": "code",
   "execution_count": null,
   "id": "e2d991ba",
   "metadata": {},
   "outputs": [],
   "source": []
  },
  {
   "cell_type": "code",
   "execution_count": null,
   "id": "c756bcfc",
   "metadata": {},
   "outputs": [],
   "source": []
  },
  {
   "cell_type": "code",
   "execution_count": null,
   "id": "ac8629cd",
   "metadata": {},
   "outputs": [],
   "source": []
  },
  {
   "cell_type": "code",
   "execution_count": null,
   "id": "4a3dbca0",
   "metadata": {},
   "outputs": [],
   "source": []
  },
  {
   "cell_type": "code",
   "execution_count": null,
   "id": "9fee90ed",
   "metadata": {},
   "outputs": [],
   "source": []
  }
 ],
 "metadata": {
  "kernelspec": {
   "display_name": "Python 3 (ipykernel)",
   "language": "python",
   "name": "python3"
  },
  "language_info": {
   "codemirror_mode": {
    "name": "ipython",
    "version": 3
   },
   "file_extension": ".py",
   "mimetype": "text/x-python",
   "name": "python",
   "nbconvert_exporter": "python",
   "pygments_lexer": "ipython3",
   "version": "3.9.12"
  }
 },
 "nbformat": 4,
 "nbformat_minor": 5
}
