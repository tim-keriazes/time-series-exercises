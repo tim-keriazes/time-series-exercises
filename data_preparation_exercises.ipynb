{
 "cells": [
  {
   "cell_type": "markdown",
   "id": "958a1e9a",
   "metadata": {},
   "source": [
    "# `strfrtime` Format Cheat Sheet\n",
    "| Units   | Specifier   | Description                                                    |\n",
    "|:--------|:------------|:---------------------------------------------------------------|\n",
    "| seconds | %S          | Second of the minute (00..60)                                  |\n",
    "| minutes | %M          | Minute of the hour (00..59)                                    |\n",
    "| hours   | %H          | Hour of the day, 24-hour clock (00..23)                        |\n",
    "|         | %I          | Hour of the day, 12-hour clock (01..12)                        |\n",
    "| days    | %d          | Day of the month                                               |\n",
    "|         | %a          | The abbreviated weekday name (\"Sun\")                           |\n",
    "|         | %A          | The full weekday name (\"Sunday\")                               |\n",
    "|         | %j          | Day of the year (001..366)                                     |\n",
    "|         | %w          | Day of the week, Sunday is 0 (0..6)                            |\n",
    "| weeks   | %U          | Week of the year, Sunday is the first day of the week (00..53) |\n",
    "|         | %W          | Week of the year, Monday is the first day of the week (00..53) |\n",
    "| months  | %b          | The abbreviated month name (\"Jan\")                             |\n",
    "|         | %B          | The full month name (\"January\")                                |\n",
    "|         | %d          | Day of the month (01..31)                                      |\n",
    "|         | %m          | Month of the year (01..12)                                     |\n",
    "| years   | %y          | Year without a century (00..99)                                |\n",
    "|         | %Y          | Year with century (1999)                                       |\n",
    "| misc    | %z          | Time zone offset (-0500)                                       |\n",
    "|         | %Z          | Time zone name (\"CDT\")                                         |\n",
    "|         | %p          | Meridian indicator (\"AM\" or \"PM\")                              |\n",
    "|         | %c          | The preferred local date and time representation               |\n",
    "|         | %x          | Preferred representation for the date alone, no time           |\n",
    "|         | %X          | Preferred representation for the time alone, no date  "
   ]
  },
  {
   "cell_type": "code",
   "execution_count": null,
   "id": "789ba711",
   "metadata": {},
   "outputs": [],
   "source": []
  }
 ],
 "metadata": {
  "kernelspec": {
   "display_name": "Python 3 (ipykernel)",
   "language": "python",
   "name": "python3"
  },
  "language_info": {
   "codemirror_mode": {
    "name": "ipython",
    "version": 3
   },
   "file_extension": ".py",
   "mimetype": "text/x-python",
   "name": "python",
   "nbconvert_exporter": "python",
   "pygments_lexer": "ipython3",
   "version": "3.9.12"
  }
 },
 "nbformat": 4,
 "nbformat_minor": 5
}
